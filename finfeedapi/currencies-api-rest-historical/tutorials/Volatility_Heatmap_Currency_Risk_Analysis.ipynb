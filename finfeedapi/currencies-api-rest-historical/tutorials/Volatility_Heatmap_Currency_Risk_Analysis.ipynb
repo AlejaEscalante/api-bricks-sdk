{
 "cells": [
  {
   "cell_type": "markdown",
   "id": "title",
   "metadata": {},
   "source": [
    "# Intraday Volatility Heatmap: Currency Risk Analysis in Historical Timeseries using Currencies API\n",
    "\n",
    "## Introduction\n",
    "\n",
    "This tutorial demonstrates how to analyze currency volatility patterns using high-frequency intraday data from the FinFeedAPI Currencies API. We'll create comprehensive volatility heatmaps that visualize risk patterns across different time dimensions, helping traders and analysts understand currency behavior, identify optimal trading windows, and make informed risk management decisions.\n",
    "\n",
    "### What You Will Learn\n",
    "\n",
    "- How to fetch historical currency data using the FinFeedAPI Currencies API\n",
    "- Calculate multiple volatility metrics for intraday analysis (5-minute intervals)\n",
    "- Create interactive heatmaps to visualize volatility patterns across hours and days\n",
    "- Identify peak volatility periods and trading session characteristics\n",
    "- Analyze risk concentration patterns for better position sizing and timing strategies\n",
    "- Build comprehensive risk assessment tools using historical timeseries data\n",
    "\n",
    "### Prerequisites\n",
    "\n",
    "- Python 3.8+\n",
    "- Required packages: pandas, numpy, matplotlib, seaborn, plotly, requests\n",
    "- FinFeedAPI account and API key\n",
    "- Basic understanding of financial data analysis and volatility concepts\n",
    "\n",
    "### Overview\n",
    "\n",
    "We'll analyze EUR/USD currency pair data over a one-week period using 5-minute intraday intervals to create detailed volatility heatmaps. The analysis will help identify:\n",
    "- Peak volatility hours during different trading sessions (Asian, European, American)\n",
    "- Day-of-week volatility patterns to understand weekly risk cycles\n",
    "- Risk concentration periods for better position sizing and risk management\n",
    "- Optimal entry/exit timing based on historical volatility patterns\n",
    "- Trading session characteristics to optimize strategy execution"
   ]
  },
  {
   "cell_type": "markdown",
   "id": "setup",
   "metadata": {},
   "source": [
    "## 1. Environment Setup and Configuration\n",
    "\n",
    "Set up your environment with necessary imports, API configuration, and plotting parameters for the volatility analysis."
   ]
  },
  {
   "cell_type": "code",
   "execution_count": null,
   "id": "setup_code",
   "metadata": {},
   "outputs": [],
   "source": [
    "# Import required packages\n",
    "import pandas as pd\n",
    "import numpy as np\n",
    "import matplotlib.pyplot as plt\n",
    "import seaborn as sns\n",
    "import plotly.graph_objects as go\n",
    "import plotly.express as px\n",
    "from plotly.subplots import make_subplots\n",
    "import requests\n",
    "from datetime import datetime, timedelta\n",
    "import warnings\n",
    "warnings.filterwarnings('ignore')\n",
    "\n",
    "# Configure plotting style\n",
    "plt.style.use('seaborn-v0_8')\n",
    "sns.set_palette(\"viridis\")\n",
    "plt.rcParams['figure.figsize'] = (15, 10)\n",
    "plt.rcParams['font.size'] = 12\n",
    "plt.rcParams['axes.titlesize'] = 16\n",
    "plt.rcParams['axes.labelsize'] = 14\n",
    "\n",
    "# API Configuration\n",
    "API_BASE_URL = \"https://api-historical.fx.finfeedapi.com/v1\"\n",
    "API_KEY = \"YOUR_API_KEY_HERE\"  # Replace with your actual API key\n",
    "\n",
    "# Request headers\n",
    "headers = {\n",
    "    \"Authorization\": f\"Bearer {API_KEY}\",\n",
    "    \"Content-Type\": \"application/json\"\n",
    "}\n",
    "\n",
    "# Analysis parameters\n",
    "CURRENCY_PAIR = \"EUR/USD\"\n",
    "BASE_CURRENCY = \"EUR\"\n",
    "QUOTE_CURRENCY = \"USD\"\n",
    "PERIOD = \"5MIN\"\n",
    "TIME_START = \"2025-09-01T00:00:00\"\n",
    "TIME_END = \"2025-09-07T00:00:00\"\n",
    "LIMIT = 5000\n",
    "\n",
    "print(\"✅ Environment setup complete!\")\n",
    "print(f\"📊 Analyzing {CURRENCY_PAIR} volatility from {TIME_START} to {TIME_END}\")\n",
    "print(f\"⏱️ Timeframe: {PERIOD} intervals\")"
   ]
  },
  {
   "cell_type": "markdown",
   "id": "data_loading",
   "metadata": {},
   "source": [
    "## 2. Data Loading and API Integration\n",
    "\n",
    "Fetch historical currency data from the FinFeedAPI Currencies API and prepare it for volatility analysis."
   ]
  },
  {
   "cell_type": "code",
   "execution_count": null,
   "id": "data_loading_code",
   "metadata": {},
   "outputs": [],
   "source": [
    "def fetch_currency_data(base_currency, quote_currency, period, time_start, time_end, limit):\n",
    "    \"\"\"\n",
    "    Fetch historical currency data from FinFeedAPI\n",
    "    \"\"\"\n",
    "    url = f\"{API_BASE_URL}/exchangerate/{base_currency}/{quote_currency}/history\"\n",
    "    \n",
    "    params = {\n",
    "        'period_id': period,\n",
    "        'time_start': time_start,\n",
    "        'time_end': time_end,\n",
    "        'limit': limit\n",
    "    }\n",
    "    \n",
    "    try:\n",
    "        response = requests.get(url, headers=headers, params=params)\n",
    "        response.raise_for_status()\n",
    "        data = response.json()\n",
    "        \n",
    "        # Convert to DataFrame\n",
    "        df = pd.DataFrame(data)\n",
    "        \n",
    "        # Convert time columns to datetime\n",
    "        time_columns = ['time_period_start', 'time_period_end', 'time_open', 'time_close']\n",
    "        for col in time_columns:\n",
    "            if col in df.columns:\n",
    "                df[col] = pd.to_datetime(df[col])\n",
    "        \n",
    "        # Set time_period_start as index\n",
    "        df.set_index('time_period_start', inplace=True)\n",
    "        df.sort_index(inplace=True)\n",
    "        \n",
    "        return df\n",
    "        \n",
    "    except requests.exceptions.RequestException as e:\n",
    "        print(f\"❌ Error fetching data: {e}\")\n",
    "        return None\n",
    "    except Exception as e:\n",
    "        print(f\"❌ Unexpected error: {e}\")\n",
    "        return None\n",
    "\n",
    "# Fetch the data\n",
    "print(\"🔄 Fetching historical currency data...\")\n",
    "currency_data = fetch_currency_data(\n",
    "    BASE_CURRENCY, QUOTE_CURRENCY, PERIOD, TIME_START, TIME_END, LIMIT\n",
    ")\n",
    "\n",
    "if currency_data is not None:\n",
    "    print(f\"✅ Data loaded successfully!\")\n",
    "    print(f\"📊 Shape: {currency_data.shape}\")\n",
    "    print(f\"📅 Date range: {currency_data.index.min()} to {currency_data.index.max()}\")\n",
    "    print(f\"\\n📋 Data columns:\")\n",
    "    for col in currency_data.columns:\n",
    "        print(f\"   - {col}\")\n",
    "else:\n",
    "    print(\"❌ Failed to load data. Please check your API key and parameters.\")"
   ]
  },
  {
   "cell_type": "markdown",
   "id": "exploration",
   "metadata": {},
   "source": [
    "## 3. Data Exploration and Quality Assessment\n",
    "\n",
    "Explore the loaded currency data to understand its structure, quality, and characteristics before performing volatility analysis."
   ]
  },
  {
   "cell_type": "code",
   "execution_count": null,
   "id": "exploration_code",
   "metadata": {},
   "outputs": [],
   "source": [
    "if currency_data is not None:\n",
    "    # Display basic information\n",
    "    print(\"📊 Dataset Overview:\")\n",
    "    print(f\"   Total records: {len(currency_data):,}\")\n",
    "    print(f\"   Time span: {(currency_data.index.max() - currency_data.index.min()).days} days\")\n",
    "    print(f\"   Average records per day: {len(currency_data) / ((currency_data.index.max() - currency_data.index.min()).days + 1):.1f}\")\n",
    "    \n",
    "    # Display first few records\n",
    "    print(\"\\n📋 Sample Data (First 5 records):\")\n",
    "    display(currency_data.head())\n",
    "    \n",
    "    # Basic statistics\n",
    "    print(\"\\n📈 Price Statistics:\")\n",
    "    price_stats = currency_data[['rate_open', 'rate_high', 'rate_low', 'rate_close']].describe()\n",
    "    display(price_stats)\n",
    "    \n",
    "    # Check for missing values\n",
    "    print(\"\\n🔍 Data Quality Check:\")\n",
    "    missing_data = currency_data.isnull().sum()\n",
    "    if missing_data.sum() == 0:\n",
    "        print(\"   ✅ No missing values found\")\n",
    "    else:\n",
    "        print(\"   ⚠️ Missing values detected:\")\n",
    "        for col, count in missing_data[missing_data > 0].items():\n",
    "            print(f\"      {col}: {count} missing values\")\n",
    "    \n",
    "    # Time series continuity check\n",
    "    time_diff = currency_data.index.to_series().diff().dropna()\n",
    "    expected_interval = pd.Timedelta(minutes=5)\n",
    "    gaps = time_diff[time_diff > expected_interval * 1.5]\n",
    "    \n",
    "    if len(gaps) == 0:\n",
    "        print(\"   ✅ No significant time gaps detected\")\n",
    "    else:\n",
    "        print(f\"   ⚠️ {len(gaps)} time gaps detected (larger than expected 5-minute intervals)\")\n",
    "        print(f\"      Largest gap: {gaps.max()}\")\n",
    "    \n",
    "    # Price range analysis\n",
    "    price_range = currency_data['rate_high'] - currency_data['rate_low']\n",
    "    print(f\"\\n💰 Price Range Analysis:\")\n",
    "    print(f\"   Average range per period: {price_range.mean():.4f}\")\n",
    "    print(f\"   Maximum range: {price_range.max():.4f}\")\n",
    "    print(f\"   Minimum range: {price_range.min():.4f}\")\n",
    "    \n",
    "else:\n",
    "    print(\"❌ Cannot explore data - no data loaded\")"
   ]
  },
  {
   "cell_type": "markdown",
   "id": "volatility_calculation",
   "metadata": {},
   "source": [
    "## 4. Volatility Calculation and Analysis\n",
    "\n",
    "Calculate various volatility metrics for both intraday and daily timeframes to understand risk patterns and market behavior."
   ]
  },
  {
   "cell_type": "code",
   "execution_count": null,
   "id": "volatility_calculation_code",
   "metadata": {},
   "outputs": [],
   "source": [
    "def calculate_volatility_metrics(df):\n",
    "    \"\"\"\n",
    "    Calculate comprehensive volatility metrics\n",
    "    \"\"\"\n",
    "    # Create a copy to avoid modifying original data\n",
    "    data = df.copy()\n",
    "    \n",
    "    # Calculate returns\n",
    "    data['returns'] = data['rate_close'].pct_change()\n",
    "    \n",
    "    # Calculate intraday volatility (using high-low range)\n",
    "    data['intraday_volatility'] = (data['rate_high'] - data['rate_low']) / data['rate_close']\n",
    "    \n",
    "    # Calculate close-to-close volatility\n",
    "    data['close_to_close_volatility'] = abs(data['returns'])\n",
    "    \n",
    "    # Calculate Garman-Klass volatility (more accurate for intraday)\n",
    "    data['gk_volatility'] = 0.5 * (np.log(data['rate_high'] / data['rate_low']))**2 - (2*np.log(2)-1) * (np.log(data['rate_close'] / data['rate_open']))**2\n",
    "    data['gk_volatility'] = np.sqrt(data['gk_volatility'])\n",
    "    \n",
    "    # Add time-based features\n",
    "    data['hour'] = data.index.hour\n",
    "    data['day_of_week'] = data.index.day_name()\n",
    "    data['day_of_week_num'] = data.index.dayofweek\n",
    "    data['is_weekend'] = data.index.dayofweek >= 5\n",
    "    \n",
    "    # Calculate rolling volatility (20-period window)\n",
    "    data['rolling_volatility'] = data['returns'].rolling(window=20).std() * np.sqrt(288)  # Annualized (5-min periods)\n",
    "    \n",
    "    return data\n",
    "\n",
    "if currency_data is not None:\n",
    "    print(\"🔄 Calculating volatility metrics...\")\n",
    "    \n",
    "    # Calculate volatility metrics\n",
    "    volatility_data = calculate_volatility_metrics(currency_data)\n",
    "    \n",
    "    print(\"✅ Volatility calculations complete!\")\n",
    "    print(f\"\\n📊 Volatility Summary:\")\n",
    "    print(f\"   Average intraday volatility: {volatility_data['intraday_volatility'].mean():.4f} ({volatility_data['intraday_volatility'].mean()*100:.2f}%)\")\n",
    "    print(f\"   Average close-to-close volatility: {volatility_data['close_to_close_volatility'].mean():.4f} ({volatility_data['close_to_close_volatility'].mean()*100:.2f}%)\")\n",
    "    print(f\"   Average Garman-Klass volatility: {volatility_data['gk_volatility'].mean():.4f}\")\n",
    "    print(f\"   Average rolling volatility (annualized): {volatility_data['rolling_volatility'].mean():.2f}%\")\n",
    "    \n",
    "    # Display sample of calculated metrics\n",
    "    print(\"\\n📋 Sample Volatility Data:\")\n",
    "    sample_cols = ['rate_close', 'returns', 'intraday_volatility', 'close_to_close_volatility', 'gk_volatility', 'hour', 'day_of_week']\n",
    "    display(volatility_data[sample_cols].head(10))\n",
    "    \n",
    "    # Volatility by day of week\n",
    "    print(\"\\n📅 Average Volatility by Day of Week:\")\n",
    "    daily_vol = volatility_data.groupby('day_of_week')['intraday_volatility'].agg(['mean', 'std', 'count']).round(4)\n",
    "    daily_vol = daily_vol.reindex(['Monday', 'Tuesday', 'Wednesday', 'Thursday', 'Friday', 'Saturday', 'Sunday'])\n",
    "    display(daily_vol)\n",
    "    \n",
    "else:\n",
    "    print(\"❌ Cannot calculate volatility - no data available\")"
   ]
  },
  {
   "cell_type": "markdown",
   "id": "heatmap_creation",
   "metadata": {},
   "source": [
    "## 5. Volatility Heatmap Creation\n",
    "\n",
    "Create comprehensive heatmaps to visualize volatility patterns across different time dimensions, enabling identification of high-risk periods and optimal trading windows."
   ]
  },
  {
   "cell_type": "code",
   "execution_count": 5,
   "id": "heatmap_creation_code",
   "metadata": {},
   "outputs": [
    {
     "name": "stdout",
     "output_type": "stream",
     "text": [
      "🔄 Creating volatility heatmaps...\n",
      "✅ Heatmap data prepared!\n",
      "📊 High volatility threshold: 0.0003 (0.03%)\n"
     ]
    },
    {
     "data": {
      "image/png": "[encoded data removed]",
      "text/plain": [
       "<Figure size 2000x1600 with 6 Axes>"
      ]
     },
     "metadata": {},
     "output_type": "display_data"
    },
    {
     "name": "stdout",
     "output_type": "stream",
     "text": [
      "\n",
      "📊 Heatmap Analysis Summary:\n",
      "   Highest average volatility: 0.0020 (0.20%)\n",
      "   Lowest average volatility: 0.0000 (0.00%)\n",
      "   Total high volatility periods: 346\n",
      "   Percentage of high volatility periods: 20.0%\n"
     ]
    }
   ],
   "source": [
    "def create_volatility_heatmaps(data):\n",
    "    \"\"\"\n",
    "    Create multiple volatility heatmaps for comprehensive analysis\n",
    "    \"\"\"\n",
    "    # 1. Hour vs Day of Week Heatmap\n",
    "    hourly_daily_vol = data.groupby(['day_of_week_num', 'hour'])['intraday_volatility'].mean().unstack()\n",
    "    \n",
    "    # 2. Hour vs Day of Week - Count of High Volatility Periods\n",
    "    high_vol_threshold = data['intraday_volatility'].quantile(0.8)\n",
    "    data['is_high_vol'] = data['intraday_volatility'] > high_vol_threshold\n",
    "    hourly_daily_count = data.groupby(['day_of_week_num', 'hour'])['is_high_vol'].sum().unstack()\n",
    "    \n",
    "    # 3. Rolling Volatility Heatmap (Time Series)\n",
    "    rolling_vol_data = data[['rolling_volatility']].dropna()\n",
    "    \n",
    "    return hourly_daily_vol, hourly_daily_count, rolling_vol_data, high_vol_threshold\n",
    "\n",
    "if 'volatility_data' in locals() and volatility_data is not None:\n",
    "    print(\"🔄 Creating volatility heatmaps...\")\n",
    "    \n",
    "    # Create heatmap data\n",
    "    hourly_daily_vol, hourly_daily_count, rolling_vol_data, high_vol_threshold = create_volatility_heatmaps(volatility_data)\n",
    "    \n",
    "    print(f\"✅ Heatmap data prepared!\")\n",
    "    print(f\"📊 High volatility threshold: {high_vol_threshold:.4f} ({high_vol_threshold*100:.2f}%)\")\n",
    "    \n",
    "    # Create the main heatmap\n",
    "    fig, axes = plt.subplots(2, 2, figsize=(20, 16))\n",
    "    \n",
    "    # 1. Average Volatility Heatmap\n",
    "    sns.heatmap(hourly_daily_vol, \n",
    "                annot=True, \n",
    "                fmt='.4f', \n",
    "                cmap='YlOrRd', \n",
    "                ax=axes[0,0],\n",
    "                cbar_kws={'label': 'Average Intraday Volatility'})\n",
    "    axes[0,0].set_title('Average Intraday Volatility by Hour and Day', fontsize=16, fontweight='bold')\n",
    "    axes[0,0].set_xlabel('Hour of Day')\n",
    "    axes[0,0].set_ylabel('Day of Week')\n",
    "    \n",
    "    # 2. High Volatility Count Heatmap\n",
    "    sns.heatmap(hourly_daily_count, \n",
    "                annot=True, \n",
    "                fmt='d', \n",
    "                cmap='Reds', \n",
    "                ax=axes[0,1],\n",
    "                cbar_kws={'label': 'Count of High Volatility Periods'})\n",
    "    axes[0,1].set_title('High Volatility Periods Count by Hour and Day', fontsize=16, fontweight='bold')\n",
    "    axes[0,1].set_xlabel('Hour of Day')\n",
    "    axes[0,1].set_ylabel('Day of Week')\n",
    "    \n",
    "    # 3. Time Series of Rolling Volatility\n",
    "    axes[1,0].plot(rolling_vol_data.index, rolling_vol_data['rolling_volatility'], \n",
    "                   linewidth=2, color='darkblue', alpha=0.8)\n",
    "    axes[1,0].set_title('Rolling Volatility Over Time (20-period window)', fontsize=16, fontweight='bold')\n",
    "    axes[1,0].set_xlabel('Date')\n",
    "    axes[1,0].set_ylabel('Annualized Volatility (%)')\n",
    "    axes[1,0].grid(True, alpha=0.3)\n",
    "    axes[1,0].tick_params(axis='x', rotation=45)\n",
    "    \n",
    "    # 4. Volatility Distribution\n",
    "    axes[1,1].hist(volatility_data['intraday_volatility'], bins=50, alpha=0.7, color='skyblue', edgecolor='black')\n",
    "    axes[1,1].axvline(high_vol_threshold, color='red', linestyle='--', linewidth=2, label=f'High Vol Threshold ({high_vol_threshold:.4f})')\n",
    "    axes[1,1].set_title('Distribution of Intraday Volatility', fontsize=16, fontweight='bold')\n",
    "    axes[1,1].set_xlabel('Intraday Volatility')\n",
    "    axes[1,1].set_ylabel('Frequency')\n",
    "    axes[1,1].legend()\n",
    "    axes[1,1].grid(True, alpha=0.3)\n",
    "    \n",
    "    plt.tight_layout()\n",
    "    plt.show()\n",
    "    \n",
    "    # Display summary statistics\n",
    "    print(\"\\n📊 Heatmap Analysis Summary:\")\n",
    "    print(f\"   Highest average volatility: {hourly_daily_vol.max().max():.4f} ({hourly_daily_vol.max().max()*100:.2f}%)\")\n",
    "    print(f\"   Lowest average volatility: {hourly_daily_vol.min().min():.4f} ({hourly_daily_vol.min().min()*100:.2f}%)\")\n",
    "    print(f\"   Total high volatility periods: {volatility_data['is_high_vol'].sum()}\")\n",
    "    print(f\"   Percentage of high volatility periods: {volatility_data['is_high_vol'].mean()*100:.1f}%\")\n",
    "    \n",
    "else:\n",
    "    print(\"❌ Cannot create heatmaps - no volatility data available\")"
   ]
  },
  {
   "cell_type": "markdown",
   "id": "interactive_analysis",
   "metadata": {},
   "source": [
    "## 6. Interactive Volatility Analysis\n",
    "\n",
    "Create interactive visualizations to explore volatility patterns in detail and identify specific trading opportunities and risk periods."
   ]
  },
  {
   "cell_type": "code",
   "execution_count": 6,
   "id": "interactive_analysis_code",
   "metadata": {},
   "outputs": [
    {
     "name": "stdout",
     "output_type": "stream",
     "text": [
      "🔄 Creating interactive visualizations...\n"
     ]
    },
    {
     "data": {
      "application/vnd.plotly.v1+json": {
       "config": {
        "plotlyServerURL": "https://plot.ly"
       },
       "data": [
        {
         "colorbar": {
          "title": {
           "text": "Average Intraday Volatility"
          }
         },
         "colorscale": [
          [
           0,
           "rgb(255,255,204)"
          ],
          [
           0.125,
           "rgb(255,237,160)"
          ],
          [
           0.25,
           "rgb(254,217,118)"
          ],
          [
           0.375,
           "rgb(254,178,76)"
          ],
          [
           0.5,
           "rgb(253,141,60)"
          ],
          [
           0.625,
           "rgb(252,78,42)"
          ],
          [
           0.75,
           "rgb(227,26,28)"
          ],
          [
           0.875,
           "rgb(189,0,38)"
          ],
          [
           1,
           "rgb(128,0,38)"
          ]
         ],
         "hoverongaps": false,
         "hovertemplate": "<b>%{y}</b><br>Hour: %{x}:00<br>Volatility: %{z:.4f}<extra></extra>",
         "type": "heatmap",
         "x": [
          0,
          1,
          2,
          3,
          4,
          5,
          6,
          7,
          8,
          9,
          10,
          11,
          12,
          13,
          14,
          15,
          16,
          17,
          18,
          19,
          20,
          21,
          22,
          23
         ],
         "y": [
          "Monday",
          "Tuesday",
          "Wednesday",
          "Thursday",
          "Friday",
          "Saturday",
          "Sunday"
         ],
         "z": {
          "bdata": "B+u2xb/3Gj+MIXMTXxkjP8tEVh3ZwC4/FQ5s/uAuKT+9vGqbXmAaPxLaSJbjcyI/PxqCt2wrMj9PzVCVm4grP4Pn7KxNGS0/PAxJoogeKD84nV6VGGojP3D535BcKis/eFASx9dUKz8h9ZWnSpkoP7ccaAH+Fi0/gfd2+IXXKz/zQBssPaAhPwwdgk6b+AQ/W8Tvl7B7AT9JQh2U4s0UPzA4wsq4nwg/K8e61NriID9xsVfSdecSPx+Eb+rJMhE/STCWF0AgJD9Nf7w1//weP2RfvhQGfCg/iSFAGcfrFD/dQ0Oa4/AQP9J3ZOG4DCE/JtcIZximID88REcNwRhDP2tvyOBjET4/S3arYDdQNz9G4DxSxR0zP3YJ+JVoXTE/RYi6UZk8Oz+oiSq5jJc5P73boKU9xjo/TWcMbWe6ND9Jsm4un9YjP+enRP1MtiA/OGrpiMFZHj+wXY+7spYVP89Lexu0LyU/YDnFe/iEJz9nMWlFIY0hP/ALVC9eVCk/t3/5WDvLLz+P1+QLZUA1P5fdrHt/STI/lvDCzV8dND+o9aMX+sIpP3wymrDXZyo/t/8zqWRxMj/tFcNIhfg+PyF7fHIvwDo/tVKJvHj+MD9f/yHzHL4wP/3om7GFATE/AdKZRPu0MT+PjnEtJ0kxP4//yQLzvUA/3bzYSiy7Mj/81neAgn0nP68wgX5EdSs/gIfUbp4/Lz/bKxb5yxIhP32ImS89JyU/8Tot3PZ3ID/hsS3XKy0fPyHMUaabGyI/9NxDixiJKD/xOkssG0UuP3crN2wxlyQ/zGGCKd/IGz84xoeyFyMbP5TcDGppgR4/+fahFrUwMT9qyz046pczP++oOQsrZTA/N0FpgT3kMD8cFX+tjYgvP/zDqlWNRS0/0x/GH20AOD8SU3cEIUsxP6bmHVcFzTQ/j4wROyWMLD9vUZX2VHgvP2OdWhE0SSo/bViY4KWcKz/3iH7IcAMkP+HrAYL90h8/FYCInZ7BGD9FZrvG9HMjP+sOQKmigyA/3Ntv9ZQWOT8JqLhaOKUqPxcW2I8ueCc/d19wTSi/ID8lieSMk0UbPw/EHRdH5Tc/KW57wvNHOT9pXl3QhwgwP7K3wtcRQDU/fH/d4vi/Nz8cDxXDLYYuPwR03khfaEQ/K6o16GJZYD+7Fs4gNIFJPz1nDIyzq08/xW3yUkJrTD/dt6L/uWVPP7uV82/8VDo/ID95QbHrMz9sgoAmtGM+P4gJ5CyYjTQ/QpZAf+ttMT8tYjfQGVkUPxH/FDN7KiI/cEc/PLnOLz+mRq6ZZdwxP8B29sx55jo/cAJH6UylFj8tgV6y5W4SPyGjGzZ65zg/mNYqxlpvKz+hTdB12jQwP9lqcLi8hz8/WzXFNaagSD9l7q+YlqE4Py3WO7IOFx0/P0lm0ZE/KT+cOtO3L9UbP1d0/zAPJyc/Jxk18hTUIT/ffxVkl5IdP/sHZUTHRxI/vVHWWeg7PD+Ip7s5k8IfP4TKPAw7Qxw/O/gyBwcoID+Fl+HUwPoSPzjWB52i3Po+",
          "dtype": "f8",
          "shape": "6, 24"
         }
        }
       ],
       "layout": {
        "height": 600,
        "template": {
         "data": {
          "bar": [
           {
            "error_x": {
             "color": "#2a3f5f"
            },
            "error_y": {
             "color": "#2a3f5f"
            },
            "marker": {
             "line": {
              "color": "#E5ECF6",
              "width": 0.5
             },
             "pattern": {
              "fillmode": "overlay",
              "size": 10,
              "solidity": 0.2
             }
            },
            "type": "bar"
           }
          ],
          "barpolar": [
           {
            "marker": {
             "line": {
              "color": "#E5ECF6",
              "width": 0.5
             },
             "pattern": {
              "fillmode": "overlay",
              "size": 10,
              "solidity": 0.2
             }
            },
            "type": "barpolar"
           }
          ],
          "carpet": [
           {
            "aaxis": {
             "endlinecolor": "#2a3f5f",
             "gridcolor": "white",
             "linecolor": "white",
             "minorgridcolor": "white",
             "startlinecolor": "#2a3f5f"
            },
            "baxis": {
             "endlinecolor": "#2a3f5f",
             "gridcolor": "white",
             "linecolor": "white",
             "minorgridcolor": "white",
             "startlinecolor": "#2a3f5f"
            },
            "type": "carpet"
           }
          ],
          "choropleth": [
           {
            "colorbar": {
             "outlinewidth": 0,
             "ticks": ""
            },
            "type": "choropleth"
           }
          ],
          "contour": [
           {
            "colorbar": {
             "outlinewidth": 0,
             "ticks": ""
            },
            "colorscale": [
             [
              0,
              "#0d0887"
             ],
             [
              0.1111111111111111,
              "#46039f"
             ],
             [
              0.2222222222222222,
              "#7201a8"
             ],
             [
              0.3333333333333333,
              "#9c179e"
             ],
             [
              0.4444444444444444,
              "#bd3786"
             ],
             [
              0.5555555555555556,
              "#d8576b"
             ],
             [
              0.6666666666666666,
              "#ed7953"
             ],
             [
              0.7777777777777778,
              "#fb9f3a"
             ],
             [
              0.8888888888888888,
              "#fdca26"
             ],
             [
              1,
              "#f0f921"
             ]
            ],
            "type": "contour"
           }
          ],
          "contourcarpet": [
           {
            "colorbar": {
             "outlinewidth": 0,
             "ticks": ""
            },
            "type": "contourcarpet"
           }
          ],
          "heatmap": [
           {
            "colorbar": {
             "outlinewidth": 0,
             "ticks": ""
            },
            "colorscale": [
             [
              0,
              "#0d0887"
             ],
             [
              0.1111111111111111,
              "#46039f"
             ],
             [
              0.2222222222222222,
              "#7201a8"
             ],
             [
              0.3333333333333333,
              "#9c179e"
             ],
             [
              0.4444444444444444,
              "#bd3786"
             ],
             [
              0.5555555555555556,
              "#d8576b"
             ],
             [
              0.6666666666666666,
              "#ed7953"
             ],
             [
              0.7777777777777778,
              "#fb9f3a"
             ],
             [
              0.8888888888888888,
              "#fdca26"
             ],
             [
              1,
              "#f0f921"
             ]
            ],
            "type": "heatmap"
           }
          ],
          "histogram": [
           {
            "marker": {
             "pattern": {
              "fillmode": "overlay",
              "size": 10,
              "solidity": 0.2
             }
            },
            "type": "histogram"
           }
          ],
          "histogram2d": [
           {
            "colorbar": {
             "outlinewidth": 0,
             "ticks": ""
            },
            "colorscale": [
             [
              0,
              "#0d0887"
             ],
             [
              0.1111111111111111,
              "#46039f"
             ],
             [
              0.2222222222222222,
              "#7201a8"
             ],
             [
              0.3333333333333333,
              "#9c179e"
             ],
             [
              0.4444444444444444,
              "#bd3786"
             ],
             [
              0.5555555555555556,
              "#d8576b"
             ],
             [
              0.6666666666666666,
              "#ed7953"
             ],
             [
              0.7777777777777778,
              "#fb9f3a"
             ],
             [
              0.8888888888888888,
              "#fdca26"
             ],
             [
              1,
              "#f0f921"
             ]
            ],
            "type": "histogram2d"
           }
          ],
          "histogram2dcontour": [
           {
            "colorbar": {
             "outlinewidth": 0,
             "ticks": ""
            },
            "colorscale": [
             [
              0,
              "#0d0887"
             ],
             [
              0.1111111111111111,
              "#46039f"
             ],
             [
              0.2222222222222222,
              "#7201a8"
             ],
             [
              0.3333333333333333,
              "#9c179e"
             ],
             [
              0.4444444444444444,
              "#bd3786"
             ],
             [
              0.5555555555555556,
              "#d8576b"
             ],
             [
              0.6666666666666666,
              "#ed7953"
             ],
             [
              0.7777777777777778,
              "#fb9f3a"
             ],
             [
              0.8888888888888888,
              "#fdca26"
             ],
             [
              1,
              "#f0f921"
             ]
            ],
            "type": "histogram2dcontour"
           }
          ],
          "mesh3d": [
           {
            "colorbar": {
             "outlinewidth": 0,
             "ticks": ""
            },
            "type": "mesh3d"
           }
          ],
          "parcoords": [
           {
            "line": {
             "colorbar": {
              "outlinewidth": 0,
              "ticks": ""
             }
            },
            "type": "parcoords"
           }
          ],
          "pie": [
           {
            "automargin": true,
            "type": "pie"
           }
          ],
          "scatter": [
           {
            "fillpattern": {
             "fillmode": "overlay",
             "size": 10,
             "solidity": 0.2
            },
            "type": "scatter"
           }
          ],
          "scatter3d": [
           {
            "line": {
             "colorbar": {
              "outlinewidth": 0,
              "ticks": ""
             }
            },
            "marker": {
             "colorbar": {
              "outlinewidth": 0,
              "ticks": ""
             }
            },
            "type": "scatter3d"
           }
          ],
          "scattercarpet": [
           {
            "marker": {
             "colorbar": {
              "outlinewidth": 0,
              "ticks": ""
             }
            },
            "type": "scattercarpet"
           }
          ],
          "scattergeo": [
           {
            "marker": {
             "colorbar": {
              "outlinewidth": 0,
              "ticks": ""
             }
            },
            "type": "scattergeo"
           }
          ],
          "scattergl": [
           {
            "marker": {
             "colorbar": {
              "outlinewidth": 0,
              "ticks": ""
             }
            },
            "type": "scattergl"
           }
          ],
          "scattermap": [
           {
            "marker": {
             "colorbar": {
              "outlinewidth": 0,
              "ticks": ""
             }
            },
            "type": "scattermap"
           }
          ],
          "scattermapbox": [
           {
            "marker": {
             "colorbar": {
              "outlinewidth": 0,
              "ticks": ""
             }
            },
            "type": "scattermapbox"
           }
          ],
          "scatterpolar": [
           {
            "marker": {
             "colorbar": {
              "outlinewidth": 0,
              "ticks": ""
             }
            },
            "type": "scatterpolar"
           }
          ],
          "scatterpolargl": [
           {
            "marker": {
             "colorbar": {
              "outlinewidth": 0,
              "ticks": ""
             }
            },
            "type": "scatterpolargl"
           }
          ],
          "scatterternary": [
           {
            "marker": {
             "colorbar": {
              "outlinewidth": 0,
              "ticks": ""
             }
            },
            "type": "scatterternary"
           }
          ],
          "surface": [
           {
            "colorbar": {
             "outlinewidth": 0,
             "ticks": ""
            },
            "colorscale": [
             [
              0,
              "#0d0887"
             ],
             [
              0.1111111111111111,
              "#46039f"
             ],
             [
              0.2222222222222222,
              "#7201a8"
             ],
             [
              0.3333333333333333,
              "#9c179e"
             ],
             [
              0.4444444444444444,
              "#bd3786"
             ],
             [
              0.5555555555555556,
              "#d8576b"
             ],
             [
              0.6666666666666666,
              "#ed7953"
             ],
             [
              0.7777777777777778,
              "#fb9f3a"
             ],
             [
              0.8888888888888888,
              "#fdca26"
             ],
             [
              1,
              "#f0f921"
             ]
            ],
            "type": "surface"
           }
          ],
          "table": [
           {
            "cells": {
             "fill": {
              "color": "#EBF0F8"
             },
             "line": {
              "color": "white"
             }
            },
            "header": {
             "fill": {
              "color": "#C8D4E3"
             },
             "line": {
              "color": "white"
             }
            },
            "type": "table"
           }
          ]
         },
         "layout": {
          "annotationdefaults": {
           "arrowcolor": "#2a3f5f",
           "arrowhead": 0,
           "arrowwidth": 1
          },
          "autotypenumbers": "strict",
          "coloraxis": {
           "colorbar": {
            "outlinewidth": 0,
            "ticks": ""
           }
          },
          "colorscale": {
           "diverging": [
            [
             0,
             "#8e0152"
            ],
            [
             0.1,
             "#c51b7d"
            ],
            [
             0.2,
             "#de77ae"
            ],
            [
             0.3,
             "#f1b6da"
            ],
            [
             0.4,
             "#fde0ef"
            ],
            [
             0.5,
             "#f7f7f7"
            ],
            [
             0.6,
             "#e6f5d0"
            ],
            [
             0.7,
             "#b8e186"
            ],
            [
             0.8,
             "#7fbc41"
            ],
            [
             0.9,
             "#4d9221"
            ],
            [
             1,
             "#276419"
            ]
           ],
           "sequential": [
            [
             0,
             "#0d0887"
            ],
            [
             0.1111111111111111,
             "#46039f"
            ],
            [
             0.2222222222222222,
             "#7201a8"
            ],
            [
             0.3333333333333333,
             "#9c179e"
            ],
            [
             0.4444444444444444,
             "#bd3786"
            ],
            [
             0.5555555555555556,
             "#d8576b"
            ],
            [
             0.6666666666666666,
             "#ed7953"
            ],
            [
             0.7777777777777778,
             "#fb9f3a"
            ],
            [
             0.8888888888888888,
             "#fdca26"
            ],
            [
             1,
             "#f0f921"
            ]
           ],
           "sequentialminus": [
            [
             0,
             "#0d0887"
            ],
            [
             0.1111111111111111,
             "#46039f"
            ],
            [
             0.2222222222222222,
             "#7201a8"
            ],
            [
             0.3333333333333333,
             "#9c179e"
            ],
            [
             0.4444444444444444,
             "#bd3786"
            ],
            [
             0.5555555555555556,
             "#d8576b"
            ],
            [
             0.6666666666666666,
             "#ed7953"
            ],
            [
             0.7777777777777778,
             "#fb9f3a"
            ],
            [
             0.8888888888888888,
             "#fdca26"
            ],
            [
             1,
             "#f0f921"
            ]
           ]
          },
          "colorway": [
           "#636efa",
           "#EF553B",
           "#00cc96",
           "#ab63fa",
           "#FFA15A",
           "#19d3f3",
           "#FF6692",
           "#B6E880",
           "#FF97FF",
           "#FECB52"
          ],
          "font": {
           "color": "#2a3f5f"
          },
          "geo": {
           "bgcolor": "white",
           "lakecolor": "white",
           "landcolor": "#E5ECF6",
           "showlakes": true,
           "showland": true,
           "subunitcolor": "white"
          },
          "hoverlabel": {
           "align": "left"
          },
          "hovermode": "closest",
          "mapbox": {
           "style": "light"
          },
          "paper_bgcolor": "white",
          "plot_bgcolor": "#E5ECF6",
          "polar": {
           "angularaxis": {
            "gridcolor": "white",
            "linecolor": "white",
            "ticks": ""
           },
           "bgcolor": "#E5ECF6",
           "radialaxis": {
            "gridcolor": "white",
            "linecolor": "white",
            "ticks": ""
           }
          },
          "scene": {
           "xaxis": {
            "backgroundcolor": "#E5ECF6",
            "gridcolor": "white",
            "gridwidth": 2,
            "linecolor": "white",
            "showbackground": true,
            "ticks": "",
            "zerolinecolor": "white"
           },
           "yaxis": {
            "backgroundcolor": "#E5ECF6",
            "gridcolor": "white",
            "gridwidth": 2,
            "linecolor": "white",
            "showbackground": true,
            "ticks": "",
            "zerolinecolor": "white"
           },
           "zaxis": {
            "backgroundcolor": "#E5ECF6",
            "gridcolor": "white",
            "gridwidth": 2,
            "linecolor": "white",
            "showbackground": true,
            "ticks": "",
            "zerolinecolor": "white"
           }
          },
          "shapedefaults": {
           "line": {
            "color": "#2a3f5f"
           }
          },
          "ternary": {
           "aaxis": {
            "gridcolor": "white",
            "linecolor": "white",
            "ticks": ""
           },
           "baxis": {
            "gridcolor": "white",
            "linecolor": "white",
            "ticks": ""
           },
           "bgcolor": "#E5ECF6",
           "caxis": {
            "gridcolor": "white",
            "linecolor": "white",
            "ticks": ""
           }
          },
          "title": {
           "x": 0.05
          },
          "xaxis": {
           "automargin": true,
           "gridcolor": "white",
           "linecolor": "white",
           "ticks": "",
           "title": {
            "standoff": 15
           },
           "zerolinecolor": "white",
           "zerolinewidth": 2
          },
          "yaxis": {
           "automargin": true,
           "gridcolor": "white",
           "linecolor": "white",
           "ticks": "",
           "title": {
            "standoff": 15
           },
           "zerolinecolor": "white",
           "zerolinewidth": 2
          }
         }
        },
        "title": {
         "font": {
          "size": 20
         },
         "text": "Interactive Volatility Heatmap: EUR/USD Intraday Patterns",
         "x": 0.5
        },
        "width": 1000,
        "xaxis": {
         "dtick": 2,
         "tick0": 0,
         "tickmode": "linear",
         "title": {
          "text": "Hour of Day"
         }
        },
        "yaxis": {
         "title": {
          "text": "Day of Week"
         }
        }
       }
      }
     },
     "metadata": {},
     "output_type": "display_data"
    },
    {
     "data": {
      "application/vnd.plotly.v1+json": {
       "config": {
        "plotlyServerURL": "https://plot.ly"
       },
       "data": [
        {
         "hovertemplate": "<b>%{x}</b><br>Volatility: %{y:.4f}<extra></extra>",
         "line": {
          "color": "blue",
          "width": 2
         },
         "mode": "lines+markers",
         "name": "Intraday Volatility",
         "type": "scatter",
         "x": [
          "2025-09-01T00:00:00+00:00",
          "2025-09-01T04:10:00+00:00",
          "2025-09-01T08:20:00+00:00",
          "2025-09-01T12:30:00+00:00",
          "2025-09-01T16:40:00+00:00",
          "2025-09-01T20:50:00+00:00",
          "2025-09-02T01:00:00+00:00",
          "2025-09-02T05:10:00+00:00",
          "2025-09-02T09:20:00+00:00",
          "2025-09-02T13:30:00+00:00",
          "2025-09-02T17:40:00+00:00",
          "2025-09-02T21:50:00+00:00",
          "2025-09-03T02:00:00+00:00",
          "2025-09-03T06:10:00+00:00",
          "2025-09-03T10:20:00+00:00",
          "2025-09-03T14:30:00+00:00",
          "2025-09-03T18:40:00+00:00",
          "2025-09-03T22:50:00+00:00",
          "2025-09-04T03:00:00+00:00",
          "2025-09-04T07:10:00+00:00",
          "2025-09-04T11:20:00+00:00",
          "2025-09-04T15:30:00+00:00",
          "2025-09-04T19:40:00+00:00",
          "2025-09-04T23:50:00+00:00",
          "2025-09-05T04:00:00+00:00",
          "2025-09-05T08:10:00+00:00",
          "2025-09-05T12:20:00+00:00",
          "2025-09-05T16:30:00+00:00",
          "2025-09-05T20:40:00+00:00",
          "2025-09-06T00:50:00+00:00",
          "2025-09-06T05:00:00+00:00",
          "2025-09-06T09:10:00+00:00",
          "2025-09-06T13:20:00+00:00",
          "2025-09-06T17:30:00+00:00",
          "2025-09-06T21:40:00+00:00"
         ],
         "y": {
          "bdata": "rqFAbXLbKD8ttCPxOfgjPy4HZWMNvxY/xUVi2gPXIj/H820BQ6sSPwWPnXKX8RY/kMmpRFO1Jz8NkguZuRAQPzToMOX3rUo/+eb4qNR1Nz/N8I1/PdQtP3lF9uY2oyE/6bFxhKgZQD9SKNzte+YwP5bUfx+cBy8/UZBtm1hmPD8DsammBVooP8Snx61fSS8/KTxohaE+DT8H7KKZy4ozP0TJ46X6LjA/dsBkaVRZMz8x2Ztx6NAhP34y2+8WviI/KtH1yHp2Fj9AqtyoOlgsP3k+QFDTD1A/IMaBZrQvTj9M7wotmCk1PzDkAdlNgAc/H0j9i1no8T7VVrSNy/dTP4grHroLYgY/GlRQyG6h+D621WFAtujxPg==",
          "dtype": "f8"
         }
        }
       ],
       "layout": {
        "annotations": [
         {
          "showarrow": false,
          "text": "High Vol Threshold (0.0003)",
          "x": 1,
          "xanchor": "right",
          "xref": "x domain",
          "y": 0.0003292744617929527,
          "yanchor": "bottom",
          "yref": "y"
         }
        ],
        "height": 500,
        "shapes": [
         {
          "line": {
           "color": "red",
           "dash": "dash"
          },
          "type": "line",
          "x0": 0,
          "x1": 1,
          "xref": "x domain",
          "y0": 0.0003292744617929527,
          "y1": 0.0003292744617929527,
          "yref": "y"
         }
        ],
        "template": {
         "data": {
          "bar": [
           {
            "error_x": {
             "color": "#2a3f5f"
            },
            "error_y": {
             "color": "#2a3f5f"
            },
            "marker": {
             "line": {
              "color": "#E5ECF6",
              "width": 0.5
             },
             "pattern": {
              "fillmode": "overlay",
              "size": 10,
              "solidity": 0.2
             }
            },
            "type": "bar"
           }
          ],
          "barpolar": [
           {
            "marker": {
             "line": {
              "color": "#E5ECF6",
              "width": 0.5
             },
             "pattern": {
              "fillmode": "overlay",
              "size": 10,
              "solidity": 0.2
             }
            },
            "type": "barpolar"
           }
          ],
          "carpet": [
           {
            "aaxis": {
             "endlinecolor": "#2a3f5f",
             "gridcolor": "white",
             "linecolor": "white",
             "minorgridcolor": "white",
             "startlinecolor": "#2a3f5f"
            },
            "baxis": {
             "endlinecolor": "#2a3f5f",
             "gridcolor": "white",
             "linecolor": "white",
             "minorgridcolor": "white",
             "startlinecolor": "#2a3f5f"
            },
            "type": "carpet"
           }
          ],
          "choropleth": [
           {
            "colorbar": {
             "outlinewidth": 0,
             "ticks": ""
            },
            "type": "choropleth"
           }
          ],
          "contour": [
           {
            "colorbar": {
             "outlinewidth": 0,
             "ticks": ""
            },
            "colorscale": [
             [
              0,
              "#0d0887"
             ],
             [
              0.1111111111111111,
              "#46039f"
             ],
             [
              0.2222222222222222,
              "#7201a8"
             ],
             [
              0.3333333333333333,
              "#9c179e"
             ],
             [
              0.4444444444444444,
              "#bd3786"
             ],
             [
              0.5555555555555556,
              "#d8576b"
             ],
             [
              0.6666666666666666,
              "#ed7953"
             ],
             [
              0.7777777777777778,
              "#fb9f3a"
             ],
             [
              0.8888888888888888,
              "#fdca26"
             ],
             [
              1,
              "#f0f921"
             ]
            ],
            "type": "contour"
           }
          ],
          "contourcarpet": [
           {
            "colorbar": {
             "outlinewidth": 0,
             "ticks": ""
            },
            "type": "contourcarpet"
           }
          ],
          "heatmap": [
           {
            "colorbar": {
             "outlinewidth": 0,
             "ticks": ""
            },
            "colorscale": [
             [
              0,
              "#0d0887"
             ],
             [
              0.1111111111111111,
              "#46039f"
             ],
             [
              0.2222222222222222,
              "#7201a8"
             ],
             [
              0.3333333333333333,
              "#9c179e"
             ],
             [
              0.4444444444444444,
              "#bd3786"
             ],
             [
              0.5555555555555556,
              "#d8576b"
             ],
             [
              0.6666666666666666,
              "#ed7953"
             ],
             [
              0.7777777777777778,
              "#fb9f3a"
             ],
             [
              0.8888888888888888,
              "#fdca26"
             ],
             [
              1,
              "#f0f921"
             ]
            ],
            "type": "heatmap"
           }
          ],
          "histogram": [
           {
            "marker": {
             "pattern": {
              "fillmode": "overlay",
              "size": 10,
              "solidity": 0.2
             }
            },
            "type": "histogram"
           }
          ],
          "histogram2d": [
           {
            "colorbar": {
             "outlinewidth": 0,
             "ticks": ""
            },
            "colorscale": [
             [
              0,
              "#0d0887"
             ],
             [
              0.1111111111111111,
              "#46039f"
             ],
             [
              0.2222222222222222,
              "#7201a8"
             ],
             [
              0.3333333333333333,
              "#9c179e"
             ],
             [
              0.4444444444444444,
              "#bd3786"
             ],
             [
              0.5555555555555556,
              "#d8576b"
             ],
             [
              0.6666666666666666,
              "#ed7953"
             ],
             [
              0.7777777777777778,
              "#fb9f3a"
             ],
             [
              0.8888888888888888,
              "#fdca26"
             ],
             [
              1,
              "#f0f921"
             ]
            ],
            "type": "histogram2d"
           }
          ],
          "histogram2dcontour": [
           {
            "colorbar": {
             "outlinewidth": 0,
             "ticks": ""
            },
            "colorscale": [
             [
              0,
              "#0d0887"
             ],
             [
              0.1111111111111111,
              "#46039f"
             ],
             [
              0.2222222222222222,
              "#7201a8"
             ],
             [
              0.3333333333333333,
              "#9c179e"
             ],
             [
              0.4444444444444444,
              "#bd3786"
             ],
             [
              0.5555555555555556,
              "#d8576b"
             ],
             [
              0.6666666666666666,
              "#ed7953"
             ],
             [
              0.7777777777777778,
              "#fb9f3a"
             ],
             [
              0.8888888888888888,
              "#fdca26"
             ],
             [
              1,
              "#f0f921"
             ]
            ],
            "type": "histogram2dcontour"
           }
          ],
          "mesh3d": [
           {
            "colorbar": {
             "outlinewidth": 0,
             "ticks": ""
            },
            "type": "mesh3d"
           }
          ],
          "parcoords": [
           {
            "line": {
             "colorbar": {
              "outlinewidth": 0,
              "ticks": ""
             }
            },
            "type": "parcoords"
           }
          ],
          "pie": [
           {
            "automargin": true,
            "type": "pie"
           }
          ],
          "scatter": [
           {
            "fillpattern": {
             "fillmode": "overlay",
             "size": 10,
             "solidity": 0.2
            },
            "type": "scatter"
           }
          ],
          "scatter3d": [
           {
            "line": {
             "colorbar": {
              "outlinewidth": 0,
              "ticks": ""
             }
            },
            "marker": {
             "colorbar": {
              "outlinewidth": 0,
              "ticks": ""
             }
            },
            "type": "scatter3d"
           }
          ],
          "scattercarpet": [
           {
            "marker": {
             "colorbar": {
              "outlinewidth": 0,
              "ticks": ""
             }
            },
            "type": "scattercarpet"
           }
          ],
          "scattergeo": [
           {
            "marker": {
             "colorbar": {
              "outlinewidth": 0,
              "ticks": ""
             }
            },
            "type": "scattergeo"
           }
          ],
          "scattergl": [
           {
            "marker": {
             "colorbar": {
              "outlinewidth": 0,
              "ticks": ""
             }
            },
            "type": "scattergl"
           }
          ],
          "scattermap": [
           {
            "marker": {
             "colorbar": {
              "outlinewidth": 0,
              "ticks": ""
             }
            },
            "type": "scattermap"
           }
          ],
          "scattermapbox": [
           {
            "marker": {
             "colorbar": {
              "outlinewidth": 0,
              "ticks": ""
             }
            },
            "type": "scattermapbox"
           }
          ],
          "scatterpolar": [
           {
            "marker": {
             "colorbar": {
              "outlinewidth": 0,
              "ticks": ""
             }
            },
            "type": "scatterpolar"
           }
          ],
          "scatterpolargl": [
           {
            "marker": {
             "colorbar": {
              "outlinewidth": 0,
              "ticks": ""
             }
            },
            "type": "scatterpolargl"
           }
          ],
          "scatterternary": [
           {
            "marker": {
             "colorbar": {
              "outlinewidth": 0,
              "ticks": ""
             }
            },
            "type": "scatterternary"
           }
          ],
          "surface": [
           {
            "colorbar": {
             "outlinewidth": 0,
             "ticks": ""
            },
            "colorscale": [
             [
              0,
              "#0d0887"
             ],
             [
              0.1111111111111111,
              "#46039f"
             ],
             [
              0.2222222222222222,
              "#7201a8"
             ],
             [
              0.3333333333333333,
              "#9c179e"
             ],
             [
              0.4444444444444444,
              "#bd3786"
             ],
             [
              0.5555555555555556,
              "#d8576b"
             ],
             [
              0.6666666666666666,
              "#ed7953"
             ],
             [
              0.7777777777777778,
              "#fb9f3a"
             ],
             [
              0.8888888888888888,
              "#fdca26"
             ],
             [
              1,
              "#f0f921"
             ]
            ],
            "type": "surface"
           }
          ],
          "table": [
           {
            "cells": {
             "fill": {
              "color": "#EBF0F8"
             },
             "line": {
              "color": "white"
             }
            },
            "header": {
             "fill": {
              "color": "#C8D4E3"
             },
             "line": {
              "color": "white"
             }
            },
            "type": "table"
           }
          ]
         },
         "layout": {
          "annotationdefaults": {
           "arrowcolor": "#2a3f5f",
           "arrowhead": 0,
           "arrowwidth": 1
          },
          "autotypenumbers": "strict",
          "coloraxis": {
           "colorbar": {
            "outlinewidth": 0,
            "ticks": ""
           }
          },
          "colorscale": {
           "diverging": [
            [
             0,
             "#8e0152"
            ],
            [
             0.1,
             "#c51b7d"
            ],
            [
             0.2,
             "#de77ae"
            ],
            [
             0.3,
             "#f1b6da"
            ],
            [
             0.4,
             "#fde0ef"
            ],
            [
             0.5,
             "#f7f7f7"
            ],
            [
             0.6,
             "#e6f5d0"
            ],
            [
             0.7,
             "#b8e186"
            ],
            [
             0.8,
             "#7fbc41"
            ],
            [
             0.9,
             "#4d9221"
            ],
            [
             1,
             "#276419"
            ]
           ],
           "sequential": [
            [
             0,
             "#0d0887"
            ],
            [
             0.1111111111111111,
             "#46039f"
            ],
            [
             0.2222222222222222,
             "#7201a8"
            ],
            [
             0.3333333333333333,
             "#9c179e"
            ],
            [
             0.4444444444444444,
             "#bd3786"
            ],
            [
             0.5555555555555556,
             "#d8576b"
            ],
            [
             0.6666666666666666,
             "#ed7953"
            ],
            [
             0.7777777777777778,
             "#fb9f3a"
            ],
            [
             0.8888888888888888,
             "#fdca26"
            ],
            [
             1,
             "#f0f921"
            ]
           ],
           "sequentialminus": [
            [
             0,
             "#0d0887"
            ],
            [
             0.1111111111111111,
             "#46039f"
            ],
            [
             0.2222222222222222,
             "#7201a8"
            ],
            [
             0.3333333333333333,
             "#9c179e"
            ],
            [
             0.4444444444444444,
             "#bd3786"
            ],
            [
             0.5555555555555556,
             "#d8576b"
            ],
            [
             0.6666666666666666,
             "#ed7953"
            ],
            [
             0.7777777777777778,
             "#fb9f3a"
            ],
            [
             0.8888888888888888,
             "#fdca26"
            ],
            [
             1,
             "#f0f921"
            ]
           ]
          },
          "colorway": [
           "#636efa",
           "#EF553B",
           "#00cc96",
           "#ab63fa",
           "#FFA15A",
           "#19d3f3",
           "#FF6692",
           "#B6E880",
           "#FF97FF",
           "#FECB52"
          ],
          "font": {
           "color": "#2a3f5f"
          },
          "geo": {
           "bgcolor": "white",
           "lakecolor": "white",
           "landcolor": "#E5ECF6",
           "showlakes": true,
           "showland": true,
           "subunitcolor": "white"
          },
          "hoverlabel": {
           "align": "left"
          },
          "hovermode": "closest",
          "mapbox": {
           "style": "light"
          },
          "paper_bgcolor": "white",
          "plot_bgcolor": "#E5ECF6",
          "polar": {
           "angularaxis": {
            "gridcolor": "white",
            "linecolor": "white",
            "ticks": ""
           },
           "bgcolor": "#E5ECF6",
           "radialaxis": {
            "gridcolor": "white",
            "linecolor": "white",
            "ticks": ""
           }
          },
          "scene": {
           "xaxis": {
            "backgroundcolor": "#E5ECF6",
            "gridcolor": "white",
            "gridwidth": 2,
            "linecolor": "white",
            "showbackground": true,
            "ticks": "",
            "zerolinecolor": "white"
           },
           "yaxis": {
            "backgroundcolor": "#E5ECF6",
            "gridcolor": "white",
            "gridwidth": 2,
            "linecolor": "white",
            "showbackground": true,
            "ticks": "",
            "zerolinecolor": "white"
           },
           "zaxis": {
            "backgroundcolor": "#E5ECF6",
            "gridcolor": "white",
            "gridwidth": 2,
            "linecolor": "white",
            "showbackground": true,
            "ticks": "",
            "zerolinecolor": "white"
           }
          },
          "shapedefaults": {
           "line": {
            "color": "#2a3f5f"
           }
          },
          "ternary": {
           "aaxis": {
            "gridcolor": "white",
            "linecolor": "white",
            "ticks": ""
           },
           "baxis": {
            "gridcolor": "white",
            "linecolor": "white",
            "ticks": ""
           },
           "bgcolor": "#E5ECF6",
           "caxis": {
            "gridcolor": "white",
            "linecolor": "white",
            "ticks": ""
           }
          },
          "title": {
           "x": 0.05
          },
          "xaxis": {
           "automargin": true,
           "gridcolor": "white",
           "linecolor": "white",
           "ticks": "",
           "title": {
            "standoff": 15
           },
           "zerolinecolor": "white",
           "zerolinewidth": 2
          },
          "yaxis": {
           "automargin": true,
           "gridcolor": "white",
           "linecolor": "white",
           "ticks": "",
           "title": {
            "standoff": 15
           },
           "zerolinecolor": "white",
           "zerolinewidth": 2
          }
         }
        },
        "title": {
         "font": {
          "size": 20
         },
         "text": "Volatility Timeline: EUR/USD 5-Minute Data",
         "x": 0.5
        },
        "width": 1200,
        "xaxis": {
         "title": {
          "text": "Time"
         }
        },
        "yaxis": {
         "title": {
          "text": "Intraday Volatility"
         }
        }
       }
      }
     },
     "metadata": {},
     "output_type": "display_data"
    },
    {
     "name": "stdout",
     "output_type": "stream",
     "text": [
      "\n",
      "🎯 Risk Analysis Summary:\n",
      "\n",
      "📈 Top 10 Highest Volatility Periods:\n"
     ]
    },
    {
     "data": {
      "text/html": [
       "<div>\n",
       "<style scoped>\n",
       "    .dataframe tbody tr th:only-of-type {\n",
       "        vertical-align: middle;\n",
       "    }\n",
       "\n",
       "    .dataframe tbody tr th {\n",
       "        vertical-align: top;\n",
       "    }\n",
       "\n",
       "    .dataframe thead th {\n",
       "        text-align: right;\n",
       "    }\n",
       "</style>\n",
       "<table border=\"1\" class=\"dataframe\">\n",
       "  <thead>\n",
       "    <tr style=\"text-align: right;\">\n",
       "      <th></th>\n",
       "      <th>intraday_volatility</th>\n",
       "      <th>hour</th>\n",
       "      <th>day_of_week</th>\n",
       "    </tr>\n",
       "    <tr>\n",
       "      <th>time_period_start</th>\n",
       "      <th></th>\n",
       "      <th></th>\n",
       "      <th></th>\n",
       "    </tr>\n",
       "  </thead>\n",
       "  <tbody>\n",
       "    <tr>\n",
       "      <th>2025-09-05 12:30:00+00:00</th>\n",
       "      <td>0.004671</td>\n",
       "      <td>12</td>\n",
       "      <td>Friday</td>\n",
       "    </tr>\n",
       "    <tr>\n",
       "      <th>2025-09-05 12:35:00+00:00</th>\n",
       "      <td>0.003903</td>\n",
       "      <td>12</td>\n",
       "      <td>Friday</td>\n",
       "    </tr>\n",
       "    <tr>\n",
       "      <th>2025-09-05 12:45:00+00:00</th>\n",
       "      <td>0.003865</td>\n",
       "      <td>12</td>\n",
       "      <td>Friday</td>\n",
       "    </tr>\n",
       "    <tr>\n",
       "      <th>2025-09-05 12:40:00+00:00</th>\n",
       "      <td>0.003769</td>\n",
       "      <td>12</td>\n",
       "      <td>Friday</td>\n",
       "    </tr>\n",
       "    <tr>\n",
       "      <th>2025-09-05 15:45:00+00:00</th>\n",
       "      <td>0.002407</td>\n",
       "      <td>15</td>\n",
       "      <td>Friday</td>\n",
       "    </tr>\n",
       "    <tr>\n",
       "      <th>2025-09-06 02:50:00+00:00</th>\n",
       "      <td>0.002389</td>\n",
       "      <td>2</td>\n",
       "      <td>Saturday</td>\n",
       "    </tr>\n",
       "    <tr>\n",
       "      <th>2025-09-06 05:55:00+00:00</th>\n",
       "      <td>0.002145</td>\n",
       "      <td>5</td>\n",
       "      <td>Saturday</td>\n",
       "    </tr>\n",
       "    <tr>\n",
       "      <th>2025-09-05 09:30:00+00:00</th>\n",
       "      <td>0.002142</td>\n",
       "      <td>9</td>\n",
       "      <td>Friday</td>\n",
       "    </tr>\n",
       "    <tr>\n",
       "      <th>2025-09-06 02:45:00+00:00</th>\n",
       "      <td>0.002141</td>\n",
       "      <td>2</td>\n",
       "      <td>Saturday</td>\n",
       "    </tr>\n",
       "    <tr>\n",
       "      <th>2025-09-05 05:30:00+00:00</th>\n",
       "      <td>0.002121</td>\n",
       "      <td>5</td>\n",
       "      <td>Friday</td>\n",
       "    </tr>\n",
       "  </tbody>\n",
       "</table>\n",
       "</div>"
      ],
      "text/plain": [
       "                           intraday_volatility  hour day_of_week\n",
       "time_period_start                                               \n",
       "2025-09-05 12:30:00+00:00             0.004671    12      Friday\n",
       "2025-09-05 12:35:00+00:00             0.003903    12      Friday\n",
       "2025-09-05 12:45:00+00:00             0.003865    12      Friday\n",
       "2025-09-05 12:40:00+00:00             0.003769    12      Friday\n",
       "2025-09-05 15:45:00+00:00             0.002407    15      Friday\n",
       "2025-09-06 02:50:00+00:00             0.002389     2    Saturday\n",
       "2025-09-06 05:55:00+00:00             0.002145     5    Saturday\n",
       "2025-09-05 09:30:00+00:00             0.002142     9      Friday\n",
       "2025-09-06 02:45:00+00:00             0.002141     2    Saturday\n",
       "2025-09-05 05:30:00+00:00             0.002121     5      Friday"
      ]
     },
     "metadata": {},
     "output_type": "display_data"
    },
    {
     "name": "stdout",
     "output_type": "stream",
     "text": [
      "\n",
      "⏰ Average Volatility by Hour:\n"
     ]
    },
    {
     "data": {
      "text/html": [
       "<div>\n",
       "<style scoped>\n",
       "    .dataframe tbody tr th:only-of-type {\n",
       "        vertical-align: middle;\n",
       "    }\n",
       "\n",
       "    .dataframe tbody tr th {\n",
       "        vertical-align: top;\n",
       "    }\n",
       "\n",
       "    .dataframe thead th {\n",
       "        text-align: right;\n",
       "    }\n",
       "</style>\n",
       "<table border=\"1\" class=\"dataframe\">\n",
       "  <thead>\n",
       "    <tr style=\"text-align: right;\">\n",
       "      <th></th>\n",
       "      <th>mean</th>\n",
       "      <th>std</th>\n",
       "      <th>count</th>\n",
       "    </tr>\n",
       "    <tr>\n",
       "      <th>hour</th>\n",
       "      <th></th>\n",
       "      <th></th>\n",
       "      <th></th>\n",
       "    </tr>\n",
       "  </thead>\n",
       "  <tbody>\n",
       "    <tr>\n",
       "      <th>0</th>\n",
       "      <td>0.0002</td>\n",
       "      <td>0.0003</td>\n",
       "      <td>72</td>\n",
       "    </tr>\n",
       "    <tr>\n",
       "      <th>1</th>\n",
       "      <td>0.0002</td>\n",
       "      <td>0.0003</td>\n",
       "      <td>72</td>\n",
       "    </tr>\n",
       "    <tr>\n",
       "      <th>2</th>\n",
       "      <td>0.0002</td>\n",
       "      <td>0.0004</td>\n",
       "      <td>72</td>\n",
       "    </tr>\n",
       "    <tr>\n",
       "      <th>3</th>\n",
       "      <td>0.0001</td>\n",
       "      <td>0.0001</td>\n",
       "      <td>72</td>\n",
       "    </tr>\n",
       "    <tr>\n",
       "      <th>4</th>\n",
       "      <td>0.0001</td>\n",
       "      <td>0.0001</td>\n",
       "      <td>72</td>\n",
       "    </tr>\n",
       "    <tr>\n",
       "      <th>5</th>\n",
       "      <td>0.0002</td>\n",
       "      <td>0.0004</td>\n",
       "      <td>72</td>\n",
       "    </tr>\n",
       "    <tr>\n",
       "      <th>6</th>\n",
       "      <td>0.0003</td>\n",
       "      <td>0.0003</td>\n",
       "      <td>72</td>\n",
       "    </tr>\n",
       "    <tr>\n",
       "      <th>7</th>\n",
       "      <td>0.0003</td>\n",
       "      <td>0.0003</td>\n",
       "      <td>72</td>\n",
       "    </tr>\n",
       "    <tr>\n",
       "      <th>8</th>\n",
       "      <td>0.0004</td>\n",
       "      <td>0.0003</td>\n",
       "      <td>72</td>\n",
       "    </tr>\n",
       "    <tr>\n",
       "      <th>9</th>\n",
       "      <td>0.0004</td>\n",
       "      <td>0.0004</td>\n",
       "      <td>72</td>\n",
       "    </tr>\n",
       "    <tr>\n",
       "      <th>10</th>\n",
       "      <td>0.0003</td>\n",
       "      <td>0.0003</td>\n",
       "      <td>72</td>\n",
       "    </tr>\n",
       "    <tr>\n",
       "      <th>11</th>\n",
       "      <td>0.0003</td>\n",
       "      <td>0.0002</td>\n",
       "      <td>72</td>\n",
       "    </tr>\n",
       "  </tbody>\n",
       "</table>\n",
       "</div>"
      ],
      "text/plain": [
       "        mean     std  count\n",
       "hour                       \n",
       "0     0.0002  0.0003     72\n",
       "1     0.0002  0.0003     72\n",
       "2     0.0002  0.0004     72\n",
       "3     0.0001  0.0001     72\n",
       "4     0.0001  0.0001     72\n",
       "5     0.0002  0.0004     72\n",
       "6     0.0003  0.0003     72\n",
       "7     0.0003  0.0003     72\n",
       "8     0.0004  0.0003     72\n",
       "9     0.0004  0.0004     72\n",
       "10    0.0003  0.0003     72\n",
       "11    0.0003  0.0002     72"
      ]
     },
     "metadata": {},
     "output_type": "display_data"
    },
    {
     "name": "stdout",
     "output_type": "stream",
     "text": [
      "\n",
      "🌍 Trading Session Analysis:\n",
      "   Asian Session (00:00-08:00): 0.0002 (0.02%)\n",
      "   European Session (08:00-16:00): 0.0004 (0.04%)\n",
      "   American Session (16:00-24:00): 0.0002 (0.02%)\n"
     ]
    }
   ],
   "source": [
    "def create_interactive_heatmap(data):\n",
    "    \"\"\"\n",
    "    Create interactive Plotly heatmap\n",
    "    \"\"\"\n",
    "    # Prepare data for interactive heatmap\n",
    "    hourly_daily_vol = data.groupby(['day_of_week_num', 'hour'])['intraday_volatility'].mean().unstack()\n",
    "    \n",
    "    # Create day labels\n",
    "    day_labels = ['Monday', 'Tuesday', 'Wednesday', 'Thursday', 'Friday', 'Saturday', 'Sunday']\n",
    "    \n",
    "    # Create interactive heatmap\n",
    "    fig = go.Figure(data=go.Heatmap(\n",
    "        z=hourly_daily_vol.values,\n",
    "        x=list(range(24)),\n",
    "        y=day_labels,\n",
    "        colorscale='YlOrRd',\n",
    "        hoverongaps=False,\n",
    "        hovertemplate='<b>%{y}</b><br>Hour: %{x}:00<br>Volatility: %{z:.4f}<extra></extra>',\n",
    "        colorbar=dict(title=\"Average Intraday Volatility\")\n",
    "    ))\n",
    "    \n",
    "    fig.update_layout(\n",
    "        title=dict(\n",
    "            text='Interactive Volatility Heatmap: EUR/USD Intraday Patterns',\n",
    "            x=0.5,\n",
    "            font=dict(size=20)\n",
    "        ),\n",
    "        xaxis=dict(\n",
    "            title='Hour of Day',\n",
    "            tickmode='linear',\n",
    "            tick0=0,\n",
    "            dtick=2\n",
    "        ),\n",
    "        yaxis=dict(title='Day of Week'),\n",
    "        width=1000,\n",
    "        height=600\n",
    "    )\n",
    "    \n",
    "    return fig\n",
    "\n",
    "def create_volatility_timeline(data):\n",
    "    \"\"\"\n",
    "    Create interactive timeline of volatility\n",
    "    \"\"\"\n",
    "    # Sample data for timeline (every 50th point to avoid overcrowding)\n",
    "    timeline_data = data.iloc[::50].copy()\n",
    "    \n",
    "    fig = go.Figure()\n",
    "    \n",
    "    # Add volatility line\n",
    "    fig.add_trace(go.Scatter(\n",
    "        x=timeline_data.index,\n",
    "        y=timeline_data['intraday_volatility'],\n",
    "        mode='lines+markers',\n",
    "        name='Intraday Volatility',\n",
    "        line=dict(color='blue', width=2),\n",
    "        hovertemplate='<b>%{x}</b><br>Volatility: %{y:.4f}<extra></extra>'\n",
    "    ))\n",
    "    \n",
    "    # Add high volatility threshold line\n",
    "    high_vol_threshold = data['intraday_volatility'].quantile(0.8)\n",
    "    fig.add_hline(\n",
    "        y=high_vol_threshold,\n",
    "        line_dash=\"dash\",\n",
    "        line_color=\"red\",\n",
    "        annotation_text=f\"High Vol Threshold ({high_vol_threshold:.4f})\"\n",
    "    )\n",
    "    \n",
    "    fig.update_layout(\n",
    "        title=dict(\n",
    "            text='Volatility Timeline: EUR/USD 5-Minute Data',\n",
    "            x=0.5,\n",
    "            font=dict(size=20)\n",
    "        ),\n",
    "        xaxis=dict(title='Time'),\n",
    "        yaxis=dict(title='Intraday Volatility'),\n",
    "        width=1200,\n",
    "        height=500\n",
    "    )\n",
    "    \n",
    "    return fig\n",
    "\n",
    "if 'volatility_data' in locals() and volatility_data is not None:\n",
    "    print(\"🔄 Creating interactive visualizations...\")\n",
    "    \n",
    "    # Create interactive heatmap\n",
    "    interactive_heatmap = create_interactive_heatmap(volatility_data)\n",
    "    interactive_heatmap.show()\n",
    "    \n",
    "    # Create volatility timeline\n",
    "    volatility_timeline = create_volatility_timeline(volatility_data)\n",
    "    volatility_timeline.show()\n",
    "    \n",
    "    # Risk analysis summary\n",
    "    print(\"\\n🎯 Risk Analysis Summary:\")\n",
    "    \n",
    "    # Find highest volatility periods\n",
    "    top_vol_periods = volatility_data.nlargest(10, 'intraday_volatility')[['intraday_volatility', 'hour', 'day_of_week']]\n",
    "    print(\"\\n📈 Top 10 Highest Volatility Periods:\")\n",
    "    display(top_vol_periods)\n",
    "    \n",
    "    # Hourly volatility analysis\n",
    "    hourly_vol = volatility_data.groupby('hour')['intraday_volatility'].agg(['mean', 'std', 'count']).round(4)\n",
    "    print(\"\\n⏰ Average Volatility by Hour:\")\n",
    "    display(hourly_vol.head(12))  # Show first 12 hours\n",
    "    \n",
    "    # Trading session analysis\n",
    "    trading_sessions = {\n",
    "        'Asian': (0, 8),\n",
    "        'European': (8, 16),\n",
    "        'American': (16, 24)\n",
    "    }\n",
    "    \n",
    "    print(\"\\n🌍 Trading Session Analysis:\")\n",
    "    for session, (start_hour, end_hour) in trading_sessions.items():\n",
    "        session_data = volatility_data[(volatility_data['hour'] >= start_hour) & (volatility_data['hour'] < end_hour)]\n",
    "        if len(session_data) > 0:\n",
    "            avg_vol = session_data['intraday_volatility'].mean()\n",
    "            print(f\"   {session} Session ({start_hour:02d}:00-{end_hour:02d}:00): {avg_vol:.4f} ({avg_vol*100:.2f}%)\")\n",
    "    \n",
    "else:\n",
    "    print(\"❌ Cannot create interactive analysis - no data available\")"
   ]
  },
  {
   "cell_type": "markdown",
   "id": "conclusion",
   "metadata": {},
   "source": [
    "## 7. Conclusion and Trading Insights\n",
    "\n",
    "Summarize the volatility analysis findings and provide actionable insights for currency trading and risk management.\n",
    "\n",
    "### Summary\n",
    "\n",
    "This tutorial demonstrated how to analyze currency volatility patterns using historical timeseries data from the FinFeedAPI Currencies API. We created comprehensive heatmaps and interactive visualizations to identify intraday and daily volatility patterns for the EUR/USD currency pair.\n",
    "\n",
    "### Key Findings\n",
    "\n",
    "- **Volatility Patterns**: The analysis reveals distinct volatility patterns across different hours and days of the week\n",
    "- **Trading Sessions**: Different trading sessions (Asian, European, American) show varying volatility characteristics\n",
    "- **Risk Concentration**: High volatility periods are concentrated during specific market hours and days\n",
    "- **Time-based Opportunities**: The heatmaps help identify optimal entry and exit points based on historical volatility patterns\n",
    "\n",
    "### Practical Applications\n",
    "\n",
    "- **Position Sizing**: Use volatility patterns to adjust position sizes based on expected market volatility\n",
    "- **Risk Management**: Set stop-loss levels based on historical volatility patterns for different time periods\n",
    "- **Timing Strategies**: Optimize trade timing by avoiding high-volatility periods or capitalizing on them\n",
    "- **Portfolio Allocation**: Allocate capital more efficiently by understanding when currency pairs are most/least volatile\n",
    "\n",
    "### Next Steps\n",
    "\n",
    "- **Expand Analysis**: Apply the same methodology to other currency pairs and longer time periods\n",
    "- **Machine Learning**: Use volatility patterns as features for predictive models\n",
    "- **Real-time Monitoring**: Implement real-time volatility monitoring using live data feeds\n",
    "- **Strategy Development**: Develop automated trading strategies based on volatility patterns\n",
    "\n",
    "### Additional Resources\n",
    "\n",
    "- [FinFeedAPI Currencies API Documentation](https://docs.finfeedapi.com/currencies-api/rest-api-historical/timeseries-data)"
   ]
  }
 ],
 "metadata": {
  "kernelspec": {
   "display_name": "venv (3.13.7)",
   "language": "python",
   "name": "python3"
  },
  "language_info": {
   "codemirror_mode": {
    "name": "ipython",
    "version": 3
   },
   "file_extension": ".py",
   "mimetype": "text/x-python",
   "name": "python",
   "nbconvert_exporter": "python",
   "pygments_lexer": "ipython3",
   "version": "3.13.7"
  }
 },
 "nbformat": 4,
 "nbformat_minor": 5
}
