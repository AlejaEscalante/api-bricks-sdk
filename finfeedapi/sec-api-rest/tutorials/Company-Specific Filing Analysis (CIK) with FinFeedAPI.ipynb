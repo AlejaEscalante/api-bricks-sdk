{
 "cells": [
  {
   "cell_type": "markdown",
   "metadata": {
    "id": "w4dPPO20K9G0"
   },
   "source": [
    "# Analyzing a Specific Company's SEC Filings using FinFeedAPI\n",
    "\n",
    "## Introduction\n",
    "\n",
    "This notebook demonstrates how to use the FinFeedAPI to focus on the SEC filings of a single company, identified by its Central Index Key (CIK). This allows for targeted analysis of a company's reporting history, key events, and specific disclosures.\n",
    "\n",
    "We will cover:\n",
    "1.  **Fetching Filings for a Specific CIK:** Using the `/v1/filings` endpoint with the `cik` parameter.\n",
    "2.  **Visualizing Filing Timeline:** Plotting the dates of different types of filings (10-K, 10-Q, 8-K) over time.\n",
    "3.  **Analyzing Form Type Frequency:** Counting the occurrences of different forms filed by the company.\n",
    "4.  **Extracting Specific Content:** Using `/v1/extractor/item` to retrieve key sections like \"Risk Factors\" (Item 1A) from the latest 10-K or specific items from recent 8-Ks.\n",
    "\n",
    "## Environment Setup"
   ]
  },
  {
   "cell_type": "code",
   "execution_count": 1,
   "metadata": {
    "colab": {
     "base_uri": "https://localhost:8080/"
    },
    "executionInfo": {
     "elapsed": 12865,
     "status": "ok",
     "timestamp": 1747389387416,
     "user": {
      "displayName": "Tomasz Przybysz",
      "userId": "07375145004783242953"
     },
     "user_tz": -120
    },
    "id": "szqEVCHZhbQB",
    "outputId": "8440188b-3a86-41c4-8683-4e7c2509fbde"
   },
   "outputs": [
    {
     "name": "stdout",
     "output_type": "stream",
     "text": [
      "Collecting api-bricks-sec-api-rest\n",
      "  Downloading api_bricks_sec_api_rest-1.0.1-py3-none-any.whl.metadata (4.9 kB)\n",
      "Downloading api_bricks_sec_api_rest-1.0.1-py3-none-any.whl (50 kB)\n",
      "\u001b[?25l   \u001b[90m━━━━━━━━━━━━━━━━━━━━━━━━━━━━━━━━━━━━━━━━\u001b[0m \u001b[32m0.0/50.6 kB\u001b[0m \u001b[31m?\u001b[0m eta \u001b[36m-:--:--\u001b[0m\r\u001b[2K   \u001b[90m━━━━━━━━━━━━━━━━━━━━━━━━━━━━━━━━━━━━━━━━\u001b[0m \u001b[32m50.6/50.6 kB\u001b[0m \u001b[31m2.7 MB/s\u001b[0m eta \u001b[36m0:00:00\u001b[0m\n",
      "\u001b[?25hInstalling collected packages: api-bricks-sec-api-rest\n",
      "Successfully installed api-bricks-sec-api-rest-1.0.1\n"
     ]
    }
   ],
   "source": [
    "pip install api-bricks-sec-api-rest"
   ]
  },
  {
   "cell_type": "code",
   "execution_count": 2,
   "metadata": {
    "executionInfo": {
     "elapsed": 1517,
     "status": "ok",
     "timestamp": 1747389401491,
     "user": {
      "displayName": "Tomasz Przybysz",
      "userId": "07375145004783242953"
     },
     "user_tz": -120
    },
    "id": "IWE3yk1AKste"
   },
   "outputs": [],
   "source": [
    "# Import necessary libraries\n",
    "import requests\n",
    "import pandas as pd\n",
    "import matplotlib.pyplot as plt\n",
    "import matplotlib.dates as mdates\n",
    "import json\n",
    "from datetime import datetime\n",
    "import os\n",
    "from IPython.display import display\n",
    "import api_bricks_sec_api_rest\n",
    "\n",
    "# --- API Configuration ---\n",
    "API_KEY = \"YOUR_API_KEY_HERE\"  # <--- REPLACE THIS WITH YOUR ACTUAL KEY!\n",
    "api_client = api_bricks_sec_api_rest.ApiClient(header_name=\"Authorization\", header_value=API_KEY)\n",
    "\n",
    "# --- Target Company ---\n",
    "# Replace with the CIK of the company you want to analyze\n",
    "# Example CIKs: Apple (320193), Microsoft (789019), Google (1652044)\n",
    "TARGET_CIK = 320193 # Example: Apple Inc.\n",
    "\n",
    "# --- Plotting Configuration ---\n",
    "try:\n",
    "    plt.style.use('seaborn-v0_8-darkgrid')\n",
    "except OSError:\n",
    "    print(\"Seaborn style 'seaborn-v0_8-darkgrid' not found, using default.\")\n",
    "    plt.style.use('default')\n",
    "plt.rcParams['figure.figsize'] = (15, 7) # Adjust figure size"
   ]
  },
  {
   "cell_type": "markdown",
   "metadata": {
    "id": "ZZKF_K1gLNnu"
   },
   "source": [
    "## 1. Fetching Filings for the Target CIK\n",
    "\n",
    "We use the `/v1/filings` endpoint, specifying the `cik` and desired `form_type` (e.g., 10-K, 10-Q, 8-K). We'll fetch filings over a specific period (e.g., the last 5 years) and handle pagination if necessary.\n",
    "\n"
   ]
  },
  {
   "cell_type": "code",
   "execution_count": 8,
   "metadata": {
    "colab": {
     "base_uri": "https://localhost:8080/",
     "height": 349
    },
    "executionInfo": {
     "elapsed": 3667,
     "status": "ok",
     "timestamp": 1747391876919,
     "user": {
      "displayName": "Tomasz Przybysz",
      "userId": "07375145004783242953"
     },
     "user_tz": -120
    },
    "id": "cPHo9h7NLYqi",
    "outputId": "3c444253-cbf4-4dcd-d594-359c4df399e8"
   },
   "outputs": [
    {
     "name": "stdout",
     "output_type": "stream",
     "text": [
      "Fetching filings for CIK 320193 from 2020-05-16 to 2025-05-16...\n",
      "  Fetched page 1, 200 records. Total: 200\n",
      "  Fetched page 2, 190 records. Total: 390\n",
      "  Last page reached.\n",
      "\n",
      "Successfully fetched 390 total filings for CIK 320193.\n",
      "\n",
      "Sample of fetched data:\n"
     ]
    },
    {
     "data": {
      "application/vnd.google.colaboratory.intrinsic+json": {
       "summary": "{\n  \"name\": \"    company_filings_df = pd\",\n  \"rows\": 5,\n  \"fields\": [\n    {\n      \"column\": \"filing_date\",\n      \"properties\": {\n        \"dtype\": \"date\",\n        \"min\": \"2022-03-04 00:00:00\",\n        \"max\": \"2022-03-08 00:00:00\",\n        \"num_unique_values\": 2,\n        \"samples\": [\n          \"2022-03-08 00:00:00\",\n          \"2022-03-04 00:00:00\"\n        ],\n        \"semantic_type\": \"\",\n        \"description\": \"\"\n      }\n    },\n    {\n      \"column\": \"form\",\n      \"properties\": {\n        \"dtype\": \"category\",\n        \"num_unique_values\": 2,\n        \"samples\": [\n          \"4\",\n          \"8-K\"\n        ],\n        \"semantic_type\": \"\",\n        \"description\": \"\"\n      }\n    },\n    {\n      \"column\": \"accession_number\",\n      \"properties\": {\n        \"dtype\": \"string\",\n        \"num_unique_values\": 5,\n        \"samples\": [\n          \"0000320193-22-000034\",\n          \"0000320193-22-000037\"\n        ],\n        \"semantic_type\": \"\",\n        \"description\": \"\"\n      }\n    },\n    {\n      \"column\": \"primary_doc_description\",\n      \"properties\": {\n        \"dtype\": \"category\",\n        \"num_unique_values\": 2,\n        \"samples\": [\n          \"FORM 4\",\n          \"8-K\"\n        ],\n        \"semantic_type\": \"\",\n        \"description\": \"\"\n      }\n    }\n  ]\n}",
       "type": "dataframe"
      },
      "text/html": [
       "\n",
       "  <div id=\"df-aa5a7e7e-2f7f-445f-be07-3c4b911c105c\" class=\"colab-df-container\">\n",
       "    <div>\n",
       "<style scoped>\n",
       "    .dataframe tbody tr th:only-of-type {\n",
       "        vertical-align: middle;\n",
       "    }\n",
       "\n",
       "    .dataframe tbody tr th {\n",
       "        vertical-align: top;\n",
       "    }\n",
       "\n",
       "    .dataframe thead th {\n",
       "        text-align: right;\n",
       "    }\n",
       "</style>\n",
       "<table border=\"1\" class=\"dataframe\">\n",
       "  <thead>\n",
       "    <tr style=\"text-align: right;\">\n",
       "      <th></th>\n",
       "      <th>filing_date</th>\n",
       "      <th>form</th>\n",
       "      <th>accession_number</th>\n",
       "      <th>primary_doc_description</th>\n",
       "    </tr>\n",
       "  </thead>\n",
       "  <tbody>\n",
       "    <tr>\n",
       "      <th>0</th>\n",
       "      <td>2022-03-04</td>\n",
       "      <td>8-K</td>\n",
       "      <td>0001193125-22-066169</td>\n",
       "      <td>8-K</td>\n",
       "    </tr>\n",
       "    <tr>\n",
       "      <th>1</th>\n",
       "      <td>2022-03-08</td>\n",
       "      <td>4</td>\n",
       "      <td>0000320193-22-000034</td>\n",
       "      <td>FORM 4</td>\n",
       "    </tr>\n",
       "    <tr>\n",
       "      <th>2</th>\n",
       "      <td>2022-03-08</td>\n",
       "      <td>4</td>\n",
       "      <td>0000320193-22-000035</td>\n",
       "      <td>FORM 4</td>\n",
       "    </tr>\n",
       "    <tr>\n",
       "      <th>3</th>\n",
       "      <td>2022-03-08</td>\n",
       "      <td>4</td>\n",
       "      <td>0000320193-22-000036</td>\n",
       "      <td>FORM 4</td>\n",
       "    </tr>\n",
       "    <tr>\n",
       "      <th>4</th>\n",
       "      <td>2022-03-08</td>\n",
       "      <td>4</td>\n",
       "      <td>0000320193-22-000037</td>\n",
       "      <td>FORM 4</td>\n",
       "    </tr>\n",
       "  </tbody>\n",
       "</table>\n",
       "</div>\n",
       "    <div class=\"colab-df-buttons\">\n",
       "\n",
       "  <div class=\"colab-df-container\">\n",
       "    <button class=\"colab-df-convert\" onclick=\"convertToInteractive('df-aa5a7e7e-2f7f-445f-be07-3c4b911c105c')\"\n",
       "            title=\"Convert this dataframe to an interactive table.\"\n",
       "            style=\"display:none;\">\n",
       "\n",
       "  <svg xmlns=\"http://www.w3.org/2000/svg\" height=\"24px\" viewBox=\"0 -960 960 960\">\n",
       "    <path d=\"M120-120v-720h720v720H120Zm60-500h600v-160H180v160Zm220 220h160v-160H400v160Zm0 220h160v-160H400v160ZM180-400h160v-160H180v160Zm440 0h160v-160H620v160ZM180-180h160v-160H180v160Zm440 0h160v-160H620v160Z\"/>\n",
       "  </svg>\n",
       "    </button>\n",
       "\n",
       "  <style>\n",
       "    .colab-df-container {\n",
       "      display:flex;\n",
       "      gap: 12px;\n",
       "    }\n",
       "\n",
       "    .colab-df-convert {\n",
       "      background-color: #E8F0FE;\n",
       "      border: none;\n",
       "      border-radius: 50%;\n",
       "      cursor: pointer;\n",
       "      display: none;\n",
       "      fill: #1967D2;\n",
       "      height: 32px;\n",
       "      padding: 0 0 0 0;\n",
       "      width: 32px;\n",
       "    }\n",
       "\n",
       "    .colab-df-convert:hover {\n",
       "      background-color: #E2EBFA;\n",
       "      box-shadow: 0px 1px 2px rgba(60, 64, 67, 0.3), 0px 1px 3px 1px rgba(60, 64, 67, 0.15);\n",
       "      fill: #174EA6;\n",
       "    }\n",
       "\n",
       "    .colab-df-buttons div {\n",
       "      margin-bottom: 4px;\n",
       "    }\n",
       "\n",
       "    [theme=dark] .colab-df-convert {\n",
       "      background-color: #3B4455;\n",
       "      fill: #D2E3FC;\n",
       "    }\n",
       "\n",
       "    [theme=dark] .colab-df-convert:hover {\n",
       "      background-color: #434B5C;\n",
       "      box-shadow: 0px 1px 3px 1px rgba(0, 0, 0, 0.15);\n",
       "      filter: drop-shadow(0px 1px 2px rgba(0, 0, 0, 0.3));\n",
       "      fill: #FFFFFF;\n",
       "    }\n",
       "  </style>\n",
       "\n",
       "    <script>\n",
       "      const buttonEl =\n",
       "        document.querySelector('#df-aa5a7e7e-2f7f-445f-be07-3c4b911c105c button.colab-df-convert');\n",
       "      buttonEl.style.display =\n",
       "        google.colab.kernel.accessAllowed ? 'block' : 'none';\n",
       "\n",
       "      async function convertToInteractive(key) {\n",
       "        const element = document.querySelector('#df-aa5a7e7e-2f7f-445f-be07-3c4b911c105c');\n",
       "        const dataTable =\n",
       "          await google.colab.kernel.invokeFunction('convertToInteractive',\n",
       "                                                    [key], {});\n",
       "        if (!dataTable) return;\n",
       "\n",
       "        const docLinkHtml = 'Like what you see? Visit the ' +\n",
       "          '<a target=\"_blank\" href=https://colab.research.google.com/notebooks/data_table.ipynb>data table notebook</a>'\n",
       "          + ' to learn more about interactive tables.';\n",
       "        element.innerHTML = '';\n",
       "        dataTable['output_type'] = 'display_data';\n",
       "        await google.colab.output.renderOutput(dataTable, element);\n",
       "        const docLink = document.createElement('div');\n",
       "        docLink.innerHTML = docLinkHtml;\n",
       "        element.appendChild(docLink);\n",
       "      }\n",
       "    </script>\n",
       "  </div>\n",
       "\n",
       "\n",
       "    <div id=\"df-156d9642-fc48-4e43-98d3-0b7a1936fe72\">\n",
       "      <button class=\"colab-df-quickchart\" onclick=\"quickchart('df-156d9642-fc48-4e43-98d3-0b7a1936fe72')\"\n",
       "                title=\"Suggest charts\"\n",
       "                style=\"display:none;\">\n",
       "\n",
       "<svg xmlns=\"http://www.w3.org/2000/svg\" height=\"24px\"viewBox=\"0 0 24 24\"\n",
       "     width=\"24px\">\n",
       "    <g>\n",
       "        <path d=\"M19 3H5c-1.1 0-2 .9-2 2v14c0 1.1.9 2 2 2h14c1.1 0 2-.9 2-2V5c0-1.1-.9-2-2-2zM9 17H7v-7h2v7zm4 0h-2V7h2v10zm4 0h-2v-4h2v4z\"/>\n",
       "    </g>\n",
       "</svg>\n",
       "      </button>\n",
       "\n",
       "<style>\n",
       "  .colab-df-quickchart {\n",
       "      --bg-color: #E8F0FE;\n",
       "      --fill-color: #1967D2;\n",
       "      --hover-bg-color: #E2EBFA;\n",
       "      --hover-fill-color: #174EA6;\n",
       "      --disabled-fill-color: #AAA;\n",
       "      --disabled-bg-color: #DDD;\n",
       "  }\n",
       "\n",
       "  [theme=dark] .colab-df-quickchart {\n",
       "      --bg-color: #3B4455;\n",
       "      --fill-color: #D2E3FC;\n",
       "      --hover-bg-color: #434B5C;\n",
       "      --hover-fill-color: #FFFFFF;\n",
       "      --disabled-bg-color: #3B4455;\n",
       "      --disabled-fill-color: #666;\n",
       "  }\n",
       "\n",
       "  .colab-df-quickchart {\n",
       "    background-color: var(--bg-color);\n",
       "    border: none;\n",
       "    border-radius: 50%;\n",
       "    cursor: pointer;\n",
       "    display: none;\n",
       "    fill: var(--fill-color);\n",
       "    height: 32px;\n",
       "    padding: 0;\n",
       "    width: 32px;\n",
       "  }\n",
       "\n",
       "  .colab-df-quickchart:hover {\n",
       "    background-color: var(--hover-bg-color);\n",
       "    box-shadow: 0 1px 2px rgba(60, 64, 67, 0.3), 0 1px 3px 1px rgba(60, 64, 67, 0.15);\n",
       "    fill: var(--button-hover-fill-color);\n",
       "  }\n",
       "\n",
       "  .colab-df-quickchart-complete:disabled,\n",
       "  .colab-df-quickchart-complete:disabled:hover {\n",
       "    background-color: var(--disabled-bg-color);\n",
       "    fill: var(--disabled-fill-color);\n",
       "    box-shadow: none;\n",
       "  }\n",
       "\n",
       "  .colab-df-spinner {\n",
       "    border: 2px solid var(--fill-color);\n",
       "    border-color: transparent;\n",
       "    border-bottom-color: var(--fill-color);\n",
       "    animation:\n",
       "      spin 1s steps(1) infinite;\n",
       "  }\n",
       "\n",
       "  @keyframes spin {\n",
       "    0% {\n",
       "      border-color: transparent;\n",
       "      border-bottom-color: var(--fill-color);\n",
       "      border-left-color: var(--fill-color);\n",
       "    }\n",
       "    20% {\n",
       "      border-color: transparent;\n",
       "      border-left-color: var(--fill-color);\n",
       "      border-top-color: var(--fill-color);\n",
       "    }\n",
       "    30% {\n",
       "      border-color: transparent;\n",
       "      border-left-color: var(--fill-color);\n",
       "      border-top-color: var(--fill-color);\n",
       "      border-right-color: var(--fill-color);\n",
       "    }\n",
       "    40% {\n",
       "      border-color: transparent;\n",
       "      border-right-color: var(--fill-color);\n",
       "      border-top-color: var(--fill-color);\n",
       "    }\n",
       "    60% {\n",
       "      border-color: transparent;\n",
       "      border-right-color: var(--fill-color);\n",
       "    }\n",
       "    80% {\n",
       "      border-color: transparent;\n",
       "      border-right-color: var(--fill-color);\n",
       "      border-bottom-color: var(--fill-color);\n",
       "    }\n",
       "    90% {\n",
       "      border-color: transparent;\n",
       "      border-bottom-color: var(--fill-color);\n",
       "    }\n",
       "  }\n",
       "</style>\n",
       "\n",
       "      <script>\n",
       "        async function quickchart(key) {\n",
       "          const quickchartButtonEl =\n",
       "            document.querySelector('#' + key + ' button');\n",
       "          quickchartButtonEl.disabled = true;  // To prevent multiple clicks.\n",
       "          quickchartButtonEl.classList.add('colab-df-spinner');\n",
       "          try {\n",
       "            const charts = await google.colab.kernel.invokeFunction(\n",
       "                'suggestCharts', [key], {});\n",
       "          } catch (error) {\n",
       "            console.error('Error during call to suggestCharts:', error);\n",
       "          }\n",
       "          quickchartButtonEl.classList.remove('colab-df-spinner');\n",
       "          quickchartButtonEl.classList.add('colab-df-quickchart-complete');\n",
       "        }\n",
       "        (() => {\n",
       "          let quickchartButtonEl =\n",
       "            document.querySelector('#df-156d9642-fc48-4e43-98d3-0b7a1936fe72 button');\n",
       "          quickchartButtonEl.style.display =\n",
       "            google.colab.kernel.accessAllowed ? 'block' : 'none';\n",
       "        })();\n",
       "      </script>\n",
       "    </div>\n",
       "\n",
       "    </div>\n",
       "  </div>\n"
      ],
      "text/plain": [
       "  filing_date form      accession_number primary_doc_description\n",
       "0  2022-03-04  8-K  0001193125-22-066169                     8-K\n",
       "1  2022-03-08    4  0000320193-22-000034                  FORM 4\n",
       "2  2022-03-08    4  0000320193-22-000035                  FORM 4\n",
       "3  2022-03-08    4  0000320193-22-000036                  FORM 4\n",
       "4  2022-03-08    4  0000320193-22-000037                  FORM 4"
      ]
     },
     "metadata": {},
     "output_type": "display_data"
    }
   ],
   "source": [
    "# Define time range and other parameters\n",
    "end_date = datetime.now().strftime('%Y-%m-%d')\n",
    "start_date_dt = datetime.now() - pd.DateOffset(years=5)\n",
    "start_date = start_date_dt.strftime('%Y-%m-%d')\n",
    "\n",
    "print(f\"Fetching filings for CIK {TARGET_CIK} from {start_date} to {end_date}...\")\n",
    "\n",
    "company_filings = []\n",
    "current_page = 1\n",
    "page_size = 200 # Max page size\n",
    "\n",
    "api_instance = api_bricks_sec_api_rest.FilingMetadataApi(api_client)\n",
    "\n",
    "while True:\n",
    "    page_data = api_instance.v1_filings_get (\n",
    "        cik = TARGET_CIK,\n",
    "        filling_date_start = start_date,\n",
    "        filling_date_end = end_date,\n",
    "        page_size = page_size,\n",
    "        page_number= current_page\n",
    "    )\n",
    "\n",
    "    if page_data is not None and isinstance(page_data, list) and len(page_data) > 0:\n",
    "        company_filings.extend(page_data)\n",
    "        print(f\"  Fetched page {current_page}, {len(page_data)} records. Total: {len(company_filings)}\")\n",
    "        if len(page_data) < page_size:\n",
    "            print(f\"  Last page reached.\")\n",
    "            break\n",
    "        current_page += 1\n",
    "    else:\n",
    "        if page_data == []: print(f\"  No more data found on page {current_page}.\")\n",
    "        else: print(f\"  API error or unexpected response on page {current_page}. Stopping fetch.\")\n",
    "        break\n",
    "\n",
    "# Process the results\n",
    "if company_filings:\n",
    "    company_filings_df = pd.DataFrame.from_records([vars(x) for x in company_filings])\n",
    "    date_columns = ['filing_date', 'report_date', 'acceptance_date_time']\n",
    "    for col in date_columns:\n",
    "        if col in company_filings_df.columns:\n",
    "            company_filings_df[col] = pd.to_datetime(company_filings_df[col], errors='coerce')\n",
    "\n",
    "    print(f\"\\nSuccessfully fetched {len(company_filings_df)} total filings for CIK {TARGET_CIK}.\")\n",
    "    print(\"\\nSample of fetched data:\")\n",
    "    display(company_filings_df[['filing_date', 'form', 'accession_number', 'primary_doc_description']].head())\n",
    "else:\n",
    "    print(f\"\\nNo filings found for CIK {TARGET_CIK} in the specified date range.\")\n",
    "    company_filings_df = pd.DataFrame() # Create empty DataFrame"
   ]
  },
  {
   "cell_type": "markdown",
   "metadata": {
    "id": "MEKYuhA0Lc0e"
   },
   "source": [
    "## 2. Visualizing Filing Timeline\n",
    "\n",
    "Let's plot the occurrences of major filing types (10-K, 10-Q, 8-K) on a timeline."
   ]
  },
  {
   "cell_type": "code",
   "execution_count": 5,
   "metadata": {
    "colab": {
     "base_uri": "https://localhost:8080/",
     "height": 807
    },
    "executionInfo": {
     "elapsed": 635,
     "status": "ok",
     "timestamp": 1747389667661,
     "user": {
      "displayName": "Tomasz Przybysz",
      "userId": "07375145004783242953"
     },
     "user_tz": -120
    },
    "id": "ZzGvthXvLjkV",
    "outputId": "c6a1112c-57c5-4e58-9d0d-49e691bf3fa9"
   },
   "outputs": [
    {
     "data": {
      "image/png": "[encoded data removed]",
      "text/plain": [
       "<Figure size 1800x800 with 1 Axes>"
      ]
     },
     "metadata": {},
     "output_type": "display_data"
    }
   ],
   "source": [
    "if not company_filings_df.empty:\n",
    "    # Filter for major form types\n",
    "    major_forms = ['10-K', '10-Q', '8-K']\n",
    "    timeline_df = company_filings_df[company_filings_df['form'].isin(major_forms)].copy()\n",
    "    timeline_df = timeline_df.dropna(subset=['filing_date']) # Ensure valid dates\n",
    "\n",
    "    if not timeline_df.empty:\n",
    "        # Create the plot\n",
    "        fig, ax = plt.subplots(figsize=(18, 8))\n",
    "\n",
    "        colors = {'10-K': 'red', '10-Q': 'blue', '8-K': 'green'}\n",
    "        markers = {'10-K': 'o', '10-Q': 's', '8-K': '^'}\n",
    "        sizes = {'10-K': 100, '10-Q': 70, '8-K': 40}\n",
    "\n",
    "        for form_type in major_forms:\n",
    "            subset = timeline_df[timeline_df['form'] == form_type]\n",
    "            if not subset.empty:\n",
    "                ax.scatter(subset['filing_date'], subset['form'],\n",
    "                           label=form_type,\n",
    "                           color=colors[form_type],\n",
    "                           marker=markers[form_type],\n",
    "                           s=sizes[form_type], # Size of the marker\n",
    "                           alpha=0.7)\n",
    "\n",
    "        # Formatting the plot\n",
    "        ax.set_title(f'Filing Timeline for CIK {TARGET_CIK} ({start_date} to {end_date})')\n",
    "        ax.set_xlabel('Filing Date')\n",
    "        ax.set_ylabel('Form Type')\n",
    "        ax.legend(title=\"Form Types\")\n",
    "        ax.grid(True, axis='x', linestyle='--', alpha=0.6)\n",
    "\n",
    "        # Improve date formatting on x-axis\n",
    "        ax.xaxis.set_major_locator(mdates.YearLocator())\n",
    "        ax.xaxis.set_major_formatter(mdates.DateFormatter('%Y'))\n",
    "        ax.xaxis.set_minor_locator(mdates.MonthLocator(interval=3))\n",
    "        plt.setp(ax.xaxis.get_majorticklabels(), rotation=45, ha='right')\n",
    "\n",
    "        plt.tight_layout()\n",
    "        plt.show()\n",
    "    else:\n",
    "        print(\"No 10-K, 10-Q, or 8-K filings found in the fetched data for timeline visualization.\")\n",
    "\n",
    "else:\n",
    "    print(\"DataFrame is empty. Skipping timeline visualization.\")"
   ]
  },
  {
   "cell_type": "markdown",
   "metadata": {
    "id": "HLSng6dcLotk"
   },
   "source": [
    "## 3. Analyzing Form Type Frequency\n",
    "\n",
    "Count how many times each form type was filed in the fetched period."
   ]
  },
  {
   "cell_type": "code",
   "execution_count": 6,
   "metadata": {
    "colab": {
     "base_uri": "https://localhost:8080/",
     "height": 1000
    },
    "executionInfo": {
     "elapsed": 395,
     "status": "ok",
     "timestamp": 1747389690321,
     "user": {
      "displayName": "Tomasz Przybysz",
      "userId": "07375145004783242953"
     },
     "user_tz": -120
    },
    "id": "lvR44qzaLuMy",
    "outputId": "c3dfd703-4269-4588-f1e1-c68673812e39"
   },
   "outputs": [
    {
     "name": "stdout",
     "output_type": "stream",
     "text": [
      "\n",
      "Frequency of Form Types for CIK 320193 (2020-05-16 to 2025-05-16):\n",
      "form\n",
      "4             210\n",
      "8-K            41\n",
      "144            31\n",
      "PX14A6G        21\n",
      "10-Q           15\n",
      "424B2          12\n",
      "SC 13G/A       11\n",
      "FWP             6\n",
      "DEFA14A         6\n",
      "DEF 14A         5\n",
      "10-K            5\n",
      "SD              5\n",
      "3               4\n",
      "CORRESP         3\n",
      "UPLOAD          3\n",
      "25-NSE          2\n",
      "S-8 POS         2\n",
      "IRANNOTICE      2\n",
      "S-3ASR          2\n",
      "4/A             1\n",
      "5               1\n",
      "S-8             1\n",
      "PX14A6N         1\n",
      "Name: count, dtype: int64\n"
     ]
    },
    {
     "data": {
      "image/png": "[encoded data removed]",
      "text/plain": [
       "<Figure size 1200x600 with 1 Axes>"
      ]
     },
     "metadata": {},
     "output_type": "display_data"
    }
   ],
   "source": [
    "if not company_filings_df.empty:\n",
    "    form_counts = company_filings_df['form'].value_counts()\n",
    "\n",
    "    print(f\"\\nFrequency of Form Types for CIK {TARGET_CIK} ({start_date} to {end_date}):\")\n",
    "    print(form_counts)\n",
    "\n",
    "    # Plot the top N form types\n",
    "    top_n = 15\n",
    "    plt.figure(figsize=(12, 6))\n",
    "    form_counts.head(top_n).plot(kind='bar', color='teal', edgecolor='black')\n",
    "    plt.title(f'Top {top_n} Most Frequent Form Types for CIK {TARGET_CIK}')\n",
    "    plt.xlabel('Form Type')\n",
    "    plt.ylabel('Number of Filings')\n",
    "    plt.xticks(rotation=45, ha='right')\n",
    "    plt.grid(True, axis='y', linestyle='--', alpha=0.7)\n",
    "    plt.tight_layout()\n",
    "    plt.show()\n",
    "else:\n",
    "    print(\"DataFrame is empty. Skipping form type frequency analysis.\")"
   ]
  },
  {
   "cell_type": "markdown",
   "metadata": {
    "id": "w7hz1ZADLymz"
   },
   "source": [
    "## 4. Extracting Specific Content\n",
    "\n",
    "Let's extract \"Risk Factors\" (Item 1A) from the most recent 10-K and potentially details from the most recent 8-K.\n",
    "\n",
    "### 4.1 Extracting Risk Factors (Item 1A from latest 10-K)\n"
   ]
  },
  {
   "cell_type": "code",
   "execution_count": 10,
   "metadata": {
    "colab": {
     "base_uri": "https://localhost:8080/"
    },
    "executionInfo": {
     "elapsed": 1277,
     "status": "ok",
     "timestamp": 1747392831710,
     "user": {
      "displayName": "Tomasz Przybysz",
      "userId": "07375145004783242953"
     },
     "user_tz": -120
    },
    "id": "wNWFhhTbL4sw",
    "outputId": "1cd145d5-eb04-469c-d8bd-6cf5558af477"
   },
   "outputs": [
    {
     "name": "stdout",
     "output_type": "stream",
     "text": [
      "\n",
      "Attempting to extract 'Item 1A' (Risk Factors) from latest 10-K: 0000320193-23-000106\n",
      "\n",
      "Successfully extracted Risk Factors (Item 1A). Preview (first 1000 chars):\n",
      "Item 1A. Risk Factors The Company’s business, reputation, results of operations, financial condition and stock price can be affected by a number of factors, whether currently known or unknown, including those described below. When any one or more of these risks materialize from time to time, the Company’s business, reputation, results of operations, financial condition and stock price can be materially and adversely affected. Because of the following factors, as well as other factors affecting the Company’s results of operations and financial condition, past financial performance should not be considered to be a reliable indicator of future performance, and investors should not use historical trends to anticipate results or trends in future periods. This discussion of risk factors contains forward-looking statements. This section should be read in conjunction with Part II, Item 7, “Management’s Discussion and Analysis of Financial Condition and Results of Operations” and the consolidat...\n"
     ]
    }
   ],
   "source": [
    "if not company_filings_df.empty:\n",
    "    # Find the most recent 10-K filing\n",
    "    latest_10k = company_filings_df[company_filings_df['form'] == '10-K'].sort_values('filing_date', ascending=False).iloc[1]\n",
    "\n",
    "    if not latest_10k.empty:\n",
    "        latest_10k_acc_no = latest_10k['accession_number']\n",
    "        print(f\"\\nAttempting to extract 'Item 1A' (Risk Factors) from latest 10-K: {latest_10k_acc_no}\")\n",
    "\n",
    "        api_instance2 = api_bricks_sec_api_rest.ContentExtractionApi(api_client)\n",
    "        risk_factors_content = api_instance2.v1_extractor_item_get (\n",
    "            accession_number = latest_10k_acc_no,\n",
    "            item_number = \"1A\" # Standard item number for Risk Factors in 10-K\n",
    "            # Note: Sometimes it might be 'Item 1A'. The API should handle variations if possible.\n",
    "            # Check API docs or examples if '1A' doesn't work.\n",
    "        )\n",
    "\n",
    "        if risk_factors_content is not None:\n",
    "            print(f\"\\nSuccessfully extracted Risk Factors (Item 1A). Preview (first 1000 chars):\")\n",
    "            print(risk_factors_content[:1000] + ('...' if len(risk_factors_content) > 1000 else ''))\n",
    "        else:\n",
    "            # Try alternative common naming if the first attempt failed\n",
    "            print(f\"Could not extract 'Item 1A' using '1A'. Trying 'Item 1A'...\")\n",
    "            item_params[\"item_number\"] = \"Item 1A\"\n",
    "            risk_factors_content = fetch_finfeed_data(\"/v1/extractor/item\", params=item_params)\n",
    "            if risk_factors_content is not None:\n",
    "                 print(f\"\\nSuccessfully extracted Risk Factors using 'Item 1A'. Preview (first 1000 chars):\")\n",
    "                 print(risk_factors_content[:1000] + ('...' if len(risk_factors_content) > 1000 else ''))\n",
    "            else:\n",
    "                 print(f\"Failed to extract Risk Factors (Item 1A) from {latest_10k_acc_no} using common identifiers.\")\n",
    "\n",
    "    else:\n",
    "        print(\"\\nNo 10-K filings found in the fetched data.\")\n",
    "\n",
    "else:\n",
    "    print(\"DataFrame is empty. Skipping content extraction.\")"
   ]
  },
  {
   "cell_type": "markdown",
   "metadata": {
    "id": "lj6xAViUL9SS"
   },
   "source": [
    "### 4.2 Extracting Items from latest 8-K"
   ]
  },
  {
   "cell_type": "code",
   "execution_count": 15,
   "metadata": {
    "colab": {
     "base_uri": "https://localhost:8080/"
    },
    "executionInfo": {
     "elapsed": 683,
     "status": "ok",
     "timestamp": 1747392993835,
     "user": {
      "displayName": "Tomasz Przybysz",
      "userId": "07375145004783242953"
     },
     "user_tz": -120
    },
    "id": "DQU6-4jfMBre",
    "outputId": "29f76b97-599b-4754-b217-37a8ca6bfaeb"
   },
   "outputs": [
    {
     "name": "stdout",
     "output_type": "stream",
     "text": [
      "\n",
      "Attempting to extract full structure from latest 8-K: 0001140361-25-018400\n",
      "\n",
      "Extracted items from 8-K 0001140361-25-018400:\n",
      "  - Item Number: 801\n",
      "    Item Title: Other Events\n",
      "    Content Preview: Other Events. On May 12, 2025, Apple Inc. (“Apple”) consummated the issuance and sale of $1,500,000,000 aggregate principal amount of its 4.000% Notes...\n",
      "  - Item Number: 901\n",
      "    Item Title: Financial Statements and Exhibits\n",
      "    Content Preview: Item 9.01 Financial Statements and Exhibits. (d) Exhibits. Exhibit Number Exhibit Description 1.1 Underwriting Agreement, dated May 5, 2025, among App...\n"
     ]
    }
   ],
   "source": [
    "if not company_filings_df.empty:\n",
    "    # Find the most recent 8-K filing\n",
    "    latest_8k_list = company_filings_df[company_filings_df['form'] == '8-K'].sort_values('filing_date', ascending=False)\n",
    "\n",
    "    if not latest_8k_list.empty:\n",
    "        latest_8k = latest_8k_list.iloc[0]\n",
    "        latest_8k_acc_no = latest_8k['accession_number']\n",
    "        print(f\"\\nAttempting to extract full structure from latest 8-K: {latest_8k_acc_no}\")\n",
    "\n",
    "        extracted_8k_data = api_instance2.v1_extractor_get (\n",
    "            accession_number = latest_8k_acc_no\n",
    "        )\n",
    "\n",
    "        if extracted_8k_data is not None:\n",
    "            print(f\"\\nExtracted items from 8-K {latest_8k_acc_no}:\")\n",
    "            for item in extracted_8k_data.items:\n",
    "                print(f\"  - Item Number: {item.item_number}\")\n",
    "                print(f\"    Item Title: {item.item_title}\")\n",
    "                content_preview = item.content\n",
    "                print(f\"    Content Preview: {content_preview[:150]}...\")\n",
    "        else:\n",
    "            print(f\"Could not extract items structure from 8-K {latest_8k_acc_no}.\")\n",
    "    else:\n",
    "        print(\"\\nNo 8-K filings found in the fetched data.\")\n",
    "else:\n",
    "    print(\"DataFrame is empty. Skipping 8-K content extraction.\")"
   ]
  },
  {
   "cell_type": "markdown",
   "metadata": {
    "id": "9uTA6qQwMEUC"
   },
   "source": [
    "## Conclusion\n",
    "\n",
    "This notebook demonstrated how to use the FinFeedAPI to perform a focused analysis on a single company identified by its CIK. We fetched its filing history, visualized the timeline of major reports, analyzed the frequency of different form types, and extracted specific content like Risk Factors from the latest 10-K and item details from the latest 8-K.\n",
    "\n",
    "This targeted approach can be valuable for:\n",
    "* Due diligence on a specific company.\n",
    "* Tracking reporting patterns and significant events.\n",
    "* Extracting specific disclosures for further quantitative or qualitative analysis."
   ]
  }
 ],
 "metadata": {
  "colab": {
   "provenance": []
  },
  "kernelspec": {
   "display_name": "Python 3",
   "name": "python3"
  }
 },
 "nbformat": 4,
 "nbformat_minor": 0
}
