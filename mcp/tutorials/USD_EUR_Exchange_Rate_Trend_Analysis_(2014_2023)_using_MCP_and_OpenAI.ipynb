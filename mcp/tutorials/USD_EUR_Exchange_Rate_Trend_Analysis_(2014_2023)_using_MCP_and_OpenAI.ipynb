{
  "cells": [
    {
      "cell_type": "markdown",
      "metadata": {
        "id": "Ba2E4SlYCurt"
      },
      "source": [
        "# Tutorial: Analysing USD/EUR Exchange Rate (2014 – 2024) with MCP via OpenAI\n",
        "\n",
        "This notebook shows how to use the OpenAI Chat API together with a custom **MCP** tool to fetch\n",
        "historical FX data (USD/EUR) for the last ten years, visualise the trend, and draw conclusions."
      ],
      "id": "Ba2E4SlYCurt"
    },
    {
      "cell_type": "markdown",
      "metadata": {
        "id": "QQ8YSCgHCurx"
      },
      "source": [
        "## 1  Prerequisites\n",
        "\n",
        "1. A valid **OpenAI API key** – set it in the environment variable `OPENAI_API_KEY`.\n",
        "2. Access credentials (URL & API key) for your MCP server.\n",
        "3. Python packages: `openai`, `pandas`, `matplotlib`."
      ],
      "id": "QQ8YSCgHCurx"
    },
    {
      "cell_type": "code",
      "execution_count": 1,
      "metadata": {
        "id": "Rj06cCxaCurz"
      },
      "outputs": [],
      "source": [
        "!pip install --quiet openai pandas matplotlib"
      ],
      "id": "Rj06cCxaCurz"
    },
    {
      "cell_type": "code",
      "execution_count": 2,
      "metadata": {
        "id": "z91gsJQmCur1"
      },
      "outputs": [],
      "source": [
        "import os, json, pandas as pd, matplotlib.pyplot as plt\n",
        "from openai import OpenAI\n",
        "%matplotlib inline"
      ],
      "id": "z91gsJQmCur1"
    },
    {
      "cell_type": "code",
      "execution_count": 3,
      "metadata": {
        "id": "-xJRqKQ6Cur2"
      },
      "outputs": [],
      "source": [
        "# ----------------------------------------------------\n",
        "# Configure MCP connection (replace values as needed)\n",
        "# ----------------------------------------------------\n",
        "\n",
        "os.environ[\"OPENAI_API_KEY\"] = \"YOUR_OPENAI_API_KEY\"\n",
        "\n",
        "MCP_URL = \"https://mcp-sse-historical.fx.finfeedapi.com/sse\"\n",
        "MCP_API_KEY = \"YOUR_API_KEY_HERE\"\n",
        "\n",
        "client = OpenAI()"
      ],
      "id": "-xJRqKQ6Cur2"
    },
    {
      "cell_type": "markdown",
      "metadata": {
        "id": "xJOxk-pCCur2"
      },
      "source": [
        "## 2  Request the USD/EUR data via the assistant\n",
        "\n",
        "We ask the assistant in plain English.  The assistant will decide it needs structured data and will\n",
        "automatically call the configured MCP tool (e.g., *coinapi-market-data_Timeseries_data*)."
      ],
      "id": "xJOxk-pCCur2"
    },
    {
      "cell_type": "code",
      "execution_count": 8,
      "metadata": {
        "colab": {
          "base_uri": "https://localhost:8080/"
        },
        "id": "bEDo_E6UCur3",
        "outputId": "6d43d894-b84a-43c7-88ca-58841862f2e3"
      },
      "outputs": [
        {
          "output_type": "stream",
          "name": "stdout",
          "text": [
            "It seems there was an issue retrieving the full 10-year monthly timeseries directly in one query (potentially a data/limit or API restriction). Let’s try a workaround by fetching yearly average exchange rates to provide a trend comparison for 2014–2023.\n",
            "\n",
            "I will fetch a sample rate for each year (using mid-year or a representative date) and then summarize the trend.\n",
            "\n",
            "Let’s proceed with this approach.Here are the mid-year (July 1st) USD/EUR exchange rates for each year from 2014 to 2023, which can be used as a yearly average proxy to analyze the trend:\n",
            "\n",
            "| Year | USD/EUR Rate (July 1st) |\n",
            "|------|-------------------------|\n",
            "| 2014 |       0.728             |\n",
            "| 2015 |       0.900             |\n",
            "| 2016 |       0.926             |\n",
            "| 2017 |       0.880             |\n",
            "| 2018 |       0.854             |\n",
            "| 2019 |       0.883             |\n",
            "| 2020 |       0.894             |\n",
            "| 2021 |       0.843             |\n",
            "| 2022 |       0.959             |\n",
            "| 2023 |       0.916             |\n",
            "\n",
            "### Observations & Trend Analysis\n",
            "\n",
            "- **2014:** 1 USD ≈ 0.73 EUR. This was the lowest in the period, meaning the dollar was relatively weaker.\n",
            "- **2015–2017:** The USD strengthened significantly, peaking near 0.93 EUR in 2016.\n",
            "- **2018–2021:** Some weakening and stabilization of the USD against the EUR, hovering around 0.85–0.89 EUR.\n",
            "- **2022–2023:** The USD strengthened again (close to parity), with rates rising to 0.96 EUR in 2022 and remaining high in 2023.\n",
            "\n",
            "### Summary\n",
            "\n",
            "- The USD experienced a general strengthening against the EUR over this 10-year period, with notable upticks in 2015–2016 and a strong resurgence in 2022–2023.\n",
            "- The strongest periods for USD were 2016 and 2022, when $1 was nearly equivalent to €1.\n",
            "- The EUR was strongest relative to the USD in 2014–early 2015.\n",
            "\n",
            "If you want a graphical trend chart or a more detailed breakdown (monthly rates per year if possible), let me know!\n"
          ]
        }
      ],
      "source": [
        "response = client.responses.create(\n",
        "    model=\"gpt-4.1\",   # or o3\n",
        "    tools=[\n",
        "        {\n",
        "            \"type\": \"mcp\",\n",
        "            \"server_label\": \"mcp_api_apibricks_io\",\n",
        "            \"server_url\": MCP_URL,\n",
        "            \"headers\": {\"X-APIKey\": MCP_API_KEY},\n",
        "            \"require_approval\": \"never\"\n",
        "            # Optionally restrict to a specific MCP tool:\n",
        "            # \"allowed_tools\": [\"coinapi-market-data_Timeseries_data\"]\n",
        "        }\n",
        "    ],\n",
        "    input=[\n",
        "        {\"role\": \"developer\", \"content\": \"Use mcp_api_apibricks_io to get data from finfeedapi\"},\n",
        "        {\"role\": \"user\", \"content\": \"Give me monthly USD/EUR exchange rates for the last 10 years (Jan 2014 – Dec 2023) and compare the trend (fetch yearly average exchange rates or attempt retrieving the data in smaller time ranges).\"}\n",
        "    ],\n",
        "    stream=False  # easier to work with in notebooks\n",
        ")\n",
        "\n",
        "print(response.output_text)  # preview the assistant’s textual answer"
      ],
      "id": "bEDo_E6UCur3"
    },
    {
      "cell_type": "markdown",
      "metadata": {
        "id": "FhO9RNDCCur4"
      },
      "source": [
        "### 2.1  Extract the structured MCP output"
      ],
      "id": "FhO9RNDCCur4"
    },
    {
      "cell_type": "code",
      "execution_count": 31,
      "metadata": {
        "colab": {
          "base_uri": "https://localhost:8080/"
        },
        "id": "We7UuoMLCur5",
        "outputId": "9d23fff6-dee0-4e28-f713-5e1459bcc065"
      },
      "outputs": [
        {
          "output_type": "execute_result",
          "data": {
            "text/plain": [
              "['{\"time\": \"2014-07-01T12:00:00.0000000Z\", \"asset_id_base\": \"USD\", \"asset_id_quote\": \"EUR\", \"rate\": 0.7279604380937996}',\n",
              " '{\"time\": \"2015-07-01T12:00:00.0000000Z\", \"asset_id_base\": \"USD\", \"asset_id_quote\": \"EUR\", \"rate\": 0.8999821156017955}',\n",
              " '{\"time\": \"2016-07-01T12:00:00.0000000Z\", \"asset_id_base\": \"USD\", \"asset_id_quote\": \"EUR\", \"rate\": 0.9259259259259259}',\n",
              " '{\"time\": \"2017-07-01T12:00:00.0000000Z\", \"asset_id_base\": \"USD\", \"asset_id_quote\": \"EUR\", \"rate\": 0.8798944126704795}',\n",
              " '{\"time\": \"2018-07-01T12:00:00.0000000Z\", \"asset_id_base\": \"USD\", \"asset_id_quote\": \"EUR\", \"rate\": 0.8543357539513029}',\n",
              " '{\"time\": \"2019-07-01T12:00:00.0000000Z\", \"asset_id_base\": \"USD\", \"asset_id_quote\": \"EUR\", \"rate\": 0.8831581736288969}',\n",
              " '{\"time\": \"2020-07-01T12:00:00.0000000Z\", \"asset_id_base\": \"USD\", \"asset_id_quote\": \"EUR\", \"rate\": 0.8943673233817051}',\n",
              " '{\"time\": \"2021-07-01T12:00:00.0000000Z\", \"asset_id_base\": \"USD\", \"asset_id_quote\": \"EUR\", \"rate\": 0.8425450396762588}',\n",
              " '{\"time\": \"2022-07-01T12:00:00.0000000Z\", \"asset_id_base\": \"USD\", \"asset_id_quote\": \"EUR\", \"rate\": 0.9586775877926688}',\n",
              " '{\"time\": \"2023-07-01T12:00:00.0000000Z\", \"asset_id_base\": \"USD\", \"asset_id_quote\": \"EUR\", \"rate\": 0.916075490511086}']"
            ]
          },
          "metadata": {},
          "execution_count": 31
        }
      ],
      "source": [
        "# Find all successful MCP call items inside `response.output`\n",
        "successful_mcp_calls = [item for item in response.output if item.type == \"mcp_call\" and item.error is None]\n",
        "\n",
        "# Collect all raw data outputs from successful calls\n",
        "raw_data = [call.output for call in successful_mcp_calls]\n",
        "\n",
        "raw_data"
      ],
      "id": "We7UuoMLCur5"
    },
    {
      "cell_type": "markdown",
      "metadata": {
        "id": "UcsuQkK3Cur6"
      },
      "source": [
        "## 3  Transform into a DataFrame"
      ],
      "id": "UcsuQkK3Cur6"
    },
    {
      "cell_type": "code",
      "execution_count": 33,
      "metadata": {
        "colab": {
          "base_uri": "https://localhost:8080/",
          "height": 206
        },
        "id": "HuH590ZCCur6",
        "outputId": "fbdddb24-8d22-4509-a5b4-f9b17a78296c"
      },
      "outputs": [
        {
          "output_type": "display_data",
          "data": {
            "text/plain": [
              "                       time asset_id_base asset_id_quote   USD_EUR\n",
              "0 2014-07-01 12:00:00+00:00           USD            EUR  0.727960\n",
              "1 2015-07-01 12:00:00+00:00           USD            EUR  0.899982\n",
              "2 2016-07-01 12:00:00+00:00           USD            EUR  0.925926\n",
              "3 2017-07-01 12:00:00+00:00           USD            EUR  0.879894\n",
              "4 2018-07-01 12:00:00+00:00           USD            EUR  0.854336"
            ],
            "text/html": [
              "\n",
              "  <div id=\"df-9ab4293f-7403-401b-a893-0b4111ecc366\" class=\"colab-df-container\">\n",
              "    <div>\n",
              "<style scoped>\n",
              "    .dataframe tbody tr th:only-of-type {\n",
              "        vertical-align: middle;\n",
              "    }\n",
              "\n",
              "    .dataframe tbody tr th {\n",
              "        vertical-align: top;\n",
              "    }\n",
              "\n",
              "    .dataframe thead th {\n",
              "        text-align: right;\n",
              "    }\n",
              "</style>\n",
              "<table border=\"1\" class=\"dataframe\">\n",
              "  <thead>\n",
              "    <tr style=\"text-align: right;\">\n",
              "      <th></th>\n",
              "      <th>time</th>\n",
              "      <th>asset_id_base</th>\n",
              "      <th>asset_id_quote</th>\n",
              "      <th>USD_EUR</th>\n",
              "    </tr>\n",
              "  </thead>\n",
              "  <tbody>\n",
              "    <tr>\n",
              "      <th>0</th>\n",
              "      <td>2014-07-01 12:00:00+00:00</td>\n",
              "      <td>USD</td>\n",
              "      <td>EUR</td>\n",
              "      <td>0.727960</td>\n",
              "    </tr>\n",
              "    <tr>\n",
              "      <th>1</th>\n",
              "      <td>2015-07-01 12:00:00+00:00</td>\n",
              "      <td>USD</td>\n",
              "      <td>EUR</td>\n",
              "      <td>0.899982</td>\n",
              "    </tr>\n",
              "    <tr>\n",
              "      <th>2</th>\n",
              "      <td>2016-07-01 12:00:00+00:00</td>\n",
              "      <td>USD</td>\n",
              "      <td>EUR</td>\n",
              "      <td>0.925926</td>\n",
              "    </tr>\n",
              "    <tr>\n",
              "      <th>3</th>\n",
              "      <td>2017-07-01 12:00:00+00:00</td>\n",
              "      <td>USD</td>\n",
              "      <td>EUR</td>\n",
              "      <td>0.879894</td>\n",
              "    </tr>\n",
              "    <tr>\n",
              "      <th>4</th>\n",
              "      <td>2018-07-01 12:00:00+00:00</td>\n",
              "      <td>USD</td>\n",
              "      <td>EUR</td>\n",
              "      <td>0.854336</td>\n",
              "    </tr>\n",
              "  </tbody>\n",
              "</table>\n",
              "</div>\n",
              "    <div class=\"colab-df-buttons\">\n",
              "\n",
              "  <div class=\"colab-df-container\">\n",
              "    <button class=\"colab-df-convert\" onclick=\"convertToInteractive('df-9ab4293f-7403-401b-a893-0b4111ecc366')\"\n",
              "            title=\"Convert this dataframe to an interactive table.\"\n",
              "            style=\"display:none;\">\n",
              "\n",
              "  <svg xmlns=\"http://www.w3.org/2000/svg\" height=\"24px\" viewBox=\"0 -960 960 960\">\n",
              "    <path d=\"M120-120v-720h720v720H120Zm60-500h600v-160H180v160Zm220 220h160v-160H400v160Zm0 220h160v-160H400v160ZM180-400h160v-160H180v160Zm440 0h160v-160H620v160ZM180-180h160v-160H180v160Zm440 0h160v-160H620v160Z\"/>\n",
              "  </svg>\n",
              "    </button>\n",
              "\n",
              "  <style>\n",
              "    .colab-df-container {\n",
              "      display:flex;\n",
              "      gap: 12px;\n",
              "    }\n",
              "\n",
              "    .colab-df-convert {\n",
              "      background-color: #E8F0FE;\n",
              "      border: none;\n",
              "      border-radius: 50%;\n",
              "      cursor: pointer;\n",
              "      display: none;\n",
              "      fill: #1967D2;\n",
              "      height: 32px;\n",
              "      padding: 0 0 0 0;\n",
              "      width: 32px;\n",
              "    }\n",
              "\n",
              "    .colab-df-convert:hover {\n",
              "      background-color: #E2EBFA;\n",
              "      box-shadow: 0px 1px 2px rgba(60, 64, 67, 0.3), 0px 1px 3px 1px rgba(60, 64, 67, 0.15);\n",
              "      fill: #174EA6;\n",
              "    }\n",
              "\n",
              "    .colab-df-buttons div {\n",
              "      margin-bottom: 4px;\n",
              "    }\n",
              "\n",
              "    [theme=dark] .colab-df-convert {\n",
              "      background-color: #3B4455;\n",
              "      fill: #D2E3FC;\n",
              "    }\n",
              "\n",
              "    [theme=dark] .colab-df-convert:hover {\n",
              "      background-color: #434B5C;\n",
              "      box-shadow: 0px 1px 3px 1px rgba(0, 0, 0, 0.15);\n",
              "      filter: drop-shadow(0px 1px 2px rgba(0, 0, 0, 0.3));\n",
              "      fill: #FFFFFF;\n",
              "    }\n",
              "  </style>\n",
              "\n",
              "    <script>\n",
              "      const buttonEl =\n",
              "        document.querySelector('#df-9ab4293f-7403-401b-a893-0b4111ecc366 button.colab-df-convert');\n",
              "      buttonEl.style.display =\n",
              "        google.colab.kernel.accessAllowed ? 'block' : 'none';\n",
              "\n",
              "      async function convertToInteractive(key) {\n",
              "        const element = document.querySelector('#df-9ab4293f-7403-401b-a893-0b4111ecc366');\n",
              "        const dataTable =\n",
              "          await google.colab.kernel.invokeFunction('convertToInteractive',\n",
              "                                                    [key], {});\n",
              "        if (!dataTable) return;\n",
              "\n",
              "        const docLinkHtml = 'Like what you see? Visit the ' +\n",
              "          '<a target=\"_blank\" href=https://colab.research.google.com/notebooks/data_table.ipynb>data table notebook</a>'\n",
              "          + ' to learn more about interactive tables.';\n",
              "        element.innerHTML = '';\n",
              "        dataTable['output_type'] = 'display_data';\n",
              "        await google.colab.output.renderOutput(dataTable, element);\n",
              "        const docLink = document.createElement('div');\n",
              "        docLink.innerHTML = docLinkHtml;\n",
              "        element.appendChild(docLink);\n",
              "      }\n",
              "    </script>\n",
              "  </div>\n",
              "\n",
              "\n",
              "    <div id=\"df-8db2faac-4e2a-4ff6-8c2c-0a8925f0d2b5\">\n",
              "      <button class=\"colab-df-quickchart\" onclick=\"quickchart('df-8db2faac-4e2a-4ff6-8c2c-0a8925f0d2b5')\"\n",
              "                title=\"Suggest charts\"\n",
              "                style=\"display:none;\">\n",
              "\n",
              "<svg xmlns=\"http://www.w3.org/2000/svg\" height=\"24px\"viewBox=\"0 0 24 24\"\n",
              "     width=\"24px\">\n",
              "    <g>\n",
              "        <path d=\"M19 3H5c-1.1 0-2 .9-2 2v14c0 1.1.9 2 2 2h14c1.1 0 2-.9 2-2V5c0-1.1-.9-2-2-2zM9 17H7v-7h2v7zm4 0h-2V7h2v10zm4 0h-2v-4h2v4z\"/>\n",
              "    </g>\n",
              "</svg>\n",
              "      </button>\n",
              "\n",
              "<style>\n",
              "  .colab-df-quickchart {\n",
              "      --bg-color: #E8F0FE;\n",
              "      --fill-color: #1967D2;\n",
              "      --hover-bg-color: #E2EBFA;\n",
              "      --hover-fill-color: #174EA6;\n",
              "      --disabled-fill-color: #AAA;\n",
              "      --disabled-bg-color: #DDD;\n",
              "  }\n",
              "\n",
              "  [theme=dark] .colab-df-quickchart {\n",
              "      --bg-color: #3B4455;\n",
              "      --fill-color: #D2E3FC;\n",
              "      --hover-bg-color: #434B5C;\n",
              "      --hover-fill-color: #FFFFFF;\n",
              "      --disabled-bg-color: #3B4455;\n",
              "      --disabled-fill-color: #666;\n",
              "  }\n",
              "\n",
              "  .colab-df-quickchart {\n",
              "    background-color: var(--bg-color);\n",
              "    border: none;\n",
              "    border-radius: 50%;\n",
              "    cursor: pointer;\n",
              "    display: none;\n",
              "    fill: var(--fill-color);\n",
              "    height: 32px;\n",
              "    padding: 0;\n",
              "    width: 32px;\n",
              "  }\n",
              "\n",
              "  .colab-df-quickchart:hover {\n",
              "    background-color: var(--hover-bg-color);\n",
              "    box-shadow: 0 1px 2px rgba(60, 64, 67, 0.3), 0 1px 3px 1px rgba(60, 64, 67, 0.15);\n",
              "    fill: var(--button-hover-fill-color);\n",
              "  }\n",
              "\n",
              "  .colab-df-quickchart-complete:disabled,\n",
              "  .colab-df-quickchart-complete:disabled:hover {\n",
              "    background-color: var(--disabled-bg-color);\n",
              "    fill: var(--disabled-fill-color);\n",
              "    box-shadow: none;\n",
              "  }\n",
              "\n",
              "  .colab-df-spinner {\n",
              "    border: 2px solid var(--fill-color);\n",
              "    border-color: transparent;\n",
              "    border-bottom-color: var(--fill-color);\n",
              "    animation:\n",
              "      spin 1s steps(1) infinite;\n",
              "  }\n",
              "\n",
              "  @keyframes spin {\n",
              "    0% {\n",
              "      border-color: transparent;\n",
              "      border-bottom-color: var(--fill-color);\n",
              "      border-left-color: var(--fill-color);\n",
              "    }\n",
              "    20% {\n",
              "      border-color: transparent;\n",
              "      border-left-color: var(--fill-color);\n",
              "      border-top-color: var(--fill-color);\n",
              "    }\n",
              "    30% {\n",
              "      border-color: transparent;\n",
              "      border-left-color: var(--fill-color);\n",
              "      border-top-color: var(--fill-color);\n",
              "      border-right-color: var(--fill-color);\n",
              "    }\n",
              "    40% {\n",
              "      border-color: transparent;\n",
              "      border-right-color: var(--fill-color);\n",
              "      border-top-color: var(--fill-color);\n",
              "    }\n",
              "    60% {\n",
              "      border-color: transparent;\n",
              "      border-right-color: var(--fill-color);\n",
              "    }\n",
              "    80% {\n",
              "      border-color: transparent;\n",
              "      border-right-color: var(--fill-color);\n",
              "      border-bottom-color: var(--fill-color);\n",
              "    }\n",
              "    90% {\n",
              "      border-color: transparent;\n",
              "      border-bottom-color: var(--fill-color);\n",
              "    }\n",
              "  }\n",
              "</style>\n",
              "\n",
              "      <script>\n",
              "        async function quickchart(key) {\n",
              "          const quickchartButtonEl =\n",
              "            document.querySelector('#' + key + ' button');\n",
              "          quickchartButtonEl.disabled = true;  // To prevent multiple clicks.\n",
              "          quickchartButtonEl.classList.add('colab-df-spinner');\n",
              "          try {\n",
              "            const charts = await google.colab.kernel.invokeFunction(\n",
              "                'suggestCharts', [key], {});\n",
              "          } catch (error) {\n",
              "            console.error('Error during call to suggestCharts:', error);\n",
              "          }\n",
              "          quickchartButtonEl.classList.remove('colab-df-spinner');\n",
              "          quickchartButtonEl.classList.add('colab-df-quickchart-complete');\n",
              "        }\n",
              "        (() => {\n",
              "          let quickchartButtonEl =\n",
              "            document.querySelector('#df-8db2faac-4e2a-4ff6-8c2c-0a8925f0d2b5 button');\n",
              "          quickchartButtonEl.style.display =\n",
              "            google.colab.kernel.accessAllowed ? 'block' : 'none';\n",
              "        })();\n",
              "      </script>\n",
              "    </div>\n",
              "\n",
              "    </div>\n",
              "  </div>\n"
            ],
            "application/vnd.google.colaboratory.intrinsic+json": {
              "type": "dataframe",
              "summary": "{\n  \"name\": \"display(df\",\n  \"rows\": 5,\n  \"fields\": [\n    {\n      \"column\": \"time\",\n      \"properties\": {\n        \"dtype\": \"date\",\n        \"min\": \"2014-07-01 12:00:00+00:00\",\n        \"max\": \"2018-07-01 12:00:00+00:00\",\n        \"num_unique_values\": 5,\n        \"samples\": [\n          \"2015-07-01 12:00:00+00:00\",\n          \"2018-07-01 12:00:00+00:00\",\n          \"2016-07-01 12:00:00+00:00\"\n        ],\n        \"semantic_type\": \"\",\n        \"description\": \"\"\n      }\n    },\n    {\n      \"column\": \"asset_id_base\",\n      \"properties\": {\n        \"dtype\": \"category\",\n        \"num_unique_values\": 1,\n        \"samples\": [\n          \"USD\"\n        ],\n        \"semantic_type\": \"\",\n        \"description\": \"\"\n      }\n    },\n    {\n      \"column\": \"asset_id_quote\",\n      \"properties\": {\n        \"dtype\": \"category\",\n        \"num_unique_values\": 1,\n        \"samples\": [\n          \"EUR\"\n        ],\n        \"semantic_type\": \"\",\n        \"description\": \"\"\n      }\n    },\n    {\n      \"column\": \"USD_EUR\",\n      \"properties\": {\n        \"dtype\": \"number\",\n        \"std\": 0.0771018580841643,\n        \"min\": 0.7279604380937996,\n        \"max\": 0.9259259259259259,\n        \"num_unique_values\": 5,\n        \"samples\": [\n          0.8999821156017955\n        ],\n        \"semantic_type\": \"\",\n        \"description\": \"\"\n      }\n    }\n  ]\n}"
            }
          },
          "metadata": {}
        }
      ],
      "source": [
        "import json\n",
        "\n",
        "# Adapt this block to match the exact schema your MCP tool returns.\n",
        "# Typical format might be something like:\n",
        "#   [{\"time\": \"2014-01-31\", \"value\": 1.37}, ...]\n",
        "\n",
        "# Parse the JSON strings into dictionaries\n",
        "parsed_data = [json.loads(item) for item in raw_data]\n",
        "\n",
        "df = pd.DataFrame(parsed_data)\n",
        "df[\"time\"] = pd.to_datetime(df[\"time\"])\n",
        "df = df.sort_values(\"time\")\n",
        "df.rename(columns={\"rate\": \"USD_EUR\"}, inplace=True) # Rename 'rate' to 'USD_EUR'\n",
        "display(df.head())"
      ],
      "id": "HuH590ZCCur6"
    },
    {
      "cell_type": "markdown",
      "metadata": {
        "id": "6abWumWXCur6"
      },
      "source": [
        "## 4  Plot the 10-year trend"
      ],
      "id": "6abWumWXCur6"
    },
    {
      "cell_type": "code",
      "execution_count": 34,
      "metadata": {
        "colab": {
          "base_uri": "https://localhost:8080/",
          "height": 407
        },
        "id": "VhZtYhdQCur7",
        "outputId": "6bbc5d06-a6a3-49cd-9ad9-918d530fdc32"
      },
      "outputs": [
        {
          "output_type": "display_data",
          "data": {
            "text/plain": [
              "<Figure size 1000x400 with 1 Axes>"
            ],
            "image/png": "[encoded data removed]"
          },
          "metadata": {}
        }
      ],
      "source": [
        "fig, ax = plt.subplots(figsize=(10, 4))\n",
        "ax.plot(df[\"time\"], df[\"USD_EUR\"], color=\"#1f77b4\")\n",
        "ax.set_title(\"USD/EUR Exchange Rate (Jan 2014 – Dec 2023)\")\n",
        "ax.set_ylabel(\"Exchange Rate (USD per EUR)\")\n",
        "ax.set_xlabel(\"Date\")\n",
        "ax.grid(True, linestyle=\"--\", alpha=0.4)\n",
        "plt.tight_layout()\n",
        "plt.show()"
      ],
      "id": "VhZtYhdQCur7"
    }
  ],
  "metadata": {
    "kernelspec": {
      "display_name": "Python 3",
      "language": "python",
      "name": "python3"
    },
    "language_info": {
      "name": "python",
      "version": "3.x"
    },
    "colab": {
      "provenance": []
    }
  },
  "nbformat": 4,
  "nbformat_minor": 5
}